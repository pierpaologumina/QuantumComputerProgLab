{
  "nbformat": 4,
  "nbformat_minor": 0,
  "metadata": {
    "colab": {
      "provenance": [],
      "collapsed_sections": [
        "L3n4iM22cfoA",
        "E5rRwJGCcuMQ",
        "_Fz8qFK5dyoB",
        "BhPjLqBSvQfs",
        "1qFqeYMe0UB1",
        "vpfUvK2K6if2",
        "txaAnHqFDgA9",
        "HrHbArROfkfy",
        "DaYi6EJMM2Cu",
        "Uua1KgG2OXMk",
        "4AZDCclbQvVW",
        "o6i_VxqmVHMa",
        "eLuDGwCiVPHs",
        "SspVILO3g_uI",
        "tHGKeCmKiInc",
        "sDFDjZIL9lyT",
        "KjrAq7jW-wnY",
        "nTGYyCkGi6Wz",
        "rmIwMghb6pb4",
        "iENNoh2JCDwu",
        "4xIuih9kg9Gu"
      ]
    },
    "kernelspec": {
      "name": "python3",
      "display_name": "Python 3"
    },
    "language_info": {
      "name": "python"
    }
  },
  "cells": [
    {
      "cell_type": "markdown",
      "source": [
        "**Laboratorio QCP**"
      ],
      "metadata": {
        "id": "Z784DwLTc87c"
      }
    },
    {
      "cell_type": "code",
      "source": [
        "import numpy as np\n",
        "from numpy.core.numeric import identity\n",
        "import matplotlib.pyplot as plt\n",
        "from numpy.random import randint\n",
        "import math\n",
        "!pip install qiskit\n",
        "\n",
        "from qiskit import QuantumCircuit, QuantumRegister, ClassicalRegister, assemble, transpile, IBMQ, Aer\n",
        "from qiskit.providers.aer import QasmSimulator\n",
        "from qiskit.providers.ibmq import least_busy\n",
        "from qiskit.visualization import plot_histogram, plot_bloch_multivector, array_to_latex\n",
        "from qiskit.quantum_info import random_statevector, Statevector\n",
        "from qiskit.extensions import Initialize\n",
        "from qiskit.ignis.verification import marginal_counts\n",
        "import qiskit.circuit.library as lib"
      ],
      "metadata": {
        "id": "PFw88KA4dWSi",
        "colab": {
          "base_uri": "https://localhost:8080/"
        },
        "outputId": "214fc8ce-bdf6-4226-b2a8-7e2894504548"
      },
      "execution_count": null,
      "outputs": [
        {
          "output_type": "stream",
          "name": "stdout",
          "text": [
            "Collecting qiskit\n",
            "  Downloading qiskit-0.34.1.tar.gz (13 kB)\n",
            "Collecting qiskit-terra==0.19.1\n",
            "  Downloading qiskit_terra-0.19.1-cp37-cp37m-manylinux2010_x86_64.whl (6.4 MB)\n",
            "\u001b[K     |████████████████████████████████| 6.4 MB 11.4 MB/s \n",
            "\u001b[?25hCollecting qiskit-aer==0.10.2\n",
            "  Downloading qiskit_aer-0.10.2-cp37-cp37m-manylinux_2_12_x86_64.manylinux2010_x86_64.whl (18.0 MB)\n",
            "\u001b[K     |████████████████████████████████| 18.0 MB 621 kB/s \n",
            "\u001b[?25hCollecting qiskit-ibmq-provider==0.18.3\n",
            "  Downloading qiskit_ibmq_provider-0.18.3-py3-none-any.whl (238 kB)\n",
            "\u001b[K     |████████████████████████████████| 238 kB 56.1 MB/s \n",
            "\u001b[?25hCollecting qiskit-ignis==0.7.0\n",
            "  Downloading qiskit_ignis-0.7.0-py3-none-any.whl (200 kB)\n",
            "\u001b[K     |████████████████████████████████| 200 kB 49.9 MB/s \n",
            "\u001b[?25hRequirement already satisfied: numpy>=1.16.3 in /usr/local/lib/python3.7/dist-packages (from qiskit-aer==0.10.2->qiskit) (1.19.5)\n",
            "Requirement already satisfied: scipy>=1.0 in /usr/local/lib/python3.7/dist-packages (from qiskit-aer==0.10.2->qiskit) (1.4.1)\n",
            "Requirement already satisfied: urllib3>=1.21.1 in /usr/local/lib/python3.7/dist-packages (from qiskit-ibmq-provider==0.18.3->qiskit) (1.24.3)\n",
            "Requirement already satisfied: python-dateutil>=2.8.0 in /usr/local/lib/python3.7/dist-packages (from qiskit-ibmq-provider==0.18.3->qiskit) (2.8.2)\n",
            "Requirement already satisfied: requests>=2.19 in /usr/local/lib/python3.7/dist-packages (from qiskit-ibmq-provider==0.18.3->qiskit) (2.23.0)\n",
            "Collecting websocket-client>=1.0.1\n",
            "  Downloading websocket_client-1.2.3-py3-none-any.whl (53 kB)\n",
            "\u001b[K     |████████████████████████████████| 53 kB 2.0 MB/s \n",
            "\u001b[?25hCollecting requests-ntlm>=1.1.0\n",
            "  Downloading requests_ntlm-1.1.0-py2.py3-none-any.whl (5.7 kB)\n",
            "Requirement already satisfied: setuptools>=40.1.0 in /usr/local/lib/python3.7/dist-packages (from qiskit-ignis==0.7.0->qiskit) (57.4.0)\n",
            "Collecting retworkx>=0.8.0\n",
            "  Downloading retworkx-0.11.0-cp37-cp37m-manylinux_2_5_x86_64.manylinux1_x86_64.manylinux_2_12_x86_64.manylinux2010_x86_64.whl (1.6 MB)\n",
            "\u001b[K     |████████████████████████████████| 1.6 MB 45.1 MB/s \n",
            "\u001b[?25hCollecting ply>=3.10\n",
            "  Downloading ply-3.11-py2.py3-none-any.whl (49 kB)\n",
            "\u001b[K     |████████████████████████████████| 49 kB 6.5 MB/s \n",
            "\u001b[?25hRequirement already satisfied: dill>=0.3 in /usr/local/lib/python3.7/dist-packages (from qiskit-terra==0.19.1->qiskit) (0.3.4)\n",
            "Collecting stevedore>=3.0.0\n",
            "  Downloading stevedore-3.5.0-py3-none-any.whl (49 kB)\n",
            "\u001b[K     |████████████████████████████████| 49 kB 4.2 MB/s \n",
            "\u001b[?25hCollecting scipy>=1.0\n",
            "  Downloading scipy-1.7.3-cp37-cp37m-manylinux_2_12_x86_64.manylinux2010_x86_64.whl (38.1 MB)\n",
            "\u001b[K     |████████████████████████████████| 38.1 MB 62.6 MB/s \n",
            "\u001b[?25hCollecting tweedledum<2.0,>=1.1\n",
            "  Downloading tweedledum-1.1.1-cp37-cp37m-manylinux_2_12_x86_64.manylinux2010_x86_64.whl (943 kB)\n",
            "\u001b[K     |████████████████████████████████| 943 kB 48.0 MB/s \n",
            "\u001b[?25hCollecting symengine>=0.8\n",
            "  Downloading symengine-0.8.1-cp37-cp37m-manylinux2010_x86_64.whl (38.2 MB)\n",
            "\u001b[K     |████████████████████████████████| 38.2 MB 2.2 MB/s \n",
            "\u001b[?25hRequirement already satisfied: psutil>=5 in /usr/local/lib/python3.7/dist-packages (from qiskit-terra==0.19.1->qiskit) (5.4.8)\n",
            "Requirement already satisfied: sympy>=1.3 in /usr/local/lib/python3.7/dist-packages (from qiskit-terra==0.19.1->qiskit) (1.7.1)\n",
            "Collecting python-constraint>=1.4\n",
            "  Downloading python-constraint-1.4.0.tar.bz2 (18 kB)\n",
            "Requirement already satisfied: six>=1.5 in /usr/local/lib/python3.7/dist-packages (from python-dateutil>=2.8.0->qiskit-ibmq-provider==0.18.3->qiskit) (1.15.0)\n",
            "Requirement already satisfied: idna<3,>=2.5 in /usr/local/lib/python3.7/dist-packages (from requests>=2.19->qiskit-ibmq-provider==0.18.3->qiskit) (2.10)\n",
            "Requirement already satisfied: chardet<4,>=3.0.2 in /usr/local/lib/python3.7/dist-packages (from requests>=2.19->qiskit-ibmq-provider==0.18.3->qiskit) (3.0.4)\n",
            "Requirement already satisfied: certifi>=2017.4.17 in /usr/local/lib/python3.7/dist-packages (from requests>=2.19->qiskit-ibmq-provider==0.18.3->qiskit) (2021.10.8)\n",
            "Collecting ntlm-auth>=1.0.2\n",
            "  Downloading ntlm_auth-1.5.0-py2.py3-none-any.whl (29 kB)\n",
            "Collecting cryptography>=1.3\n",
            "  Downloading cryptography-36.0.1-cp36-abi3-manylinux_2_24_x86_64.whl (3.6 MB)\n",
            "\u001b[K     |████████████████████████████████| 3.6 MB 44.9 MB/s \n",
            "\u001b[?25hRequirement already satisfied: cffi>=1.12 in /usr/local/lib/python3.7/dist-packages (from cryptography>=1.3->requests-ntlm>=1.1.0->qiskit-ibmq-provider==0.18.3->qiskit) (1.15.0)\n",
            "Requirement already satisfied: pycparser in /usr/local/lib/python3.7/dist-packages (from cffi>=1.12->cryptography>=1.3->requests-ntlm>=1.1.0->qiskit-ibmq-provider==0.18.3->qiskit) (2.21)\n",
            "Requirement already satisfied: importlib-metadata>=1.7.0 in /usr/local/lib/python3.7/dist-packages (from stevedore>=3.0.0->qiskit-terra==0.19.1->qiskit) (4.10.1)\n",
            "Collecting pbr!=2.1.0,>=2.0.0\n",
            "  Downloading pbr-5.8.1-py2.py3-none-any.whl (113 kB)\n",
            "\u001b[K     |████████████████████████████████| 113 kB 69.6 MB/s \n",
            "\u001b[?25hRequirement already satisfied: zipp>=0.5 in /usr/local/lib/python3.7/dist-packages (from importlib-metadata>=1.7.0->stevedore>=3.0.0->qiskit-terra==0.19.1->qiskit) (3.7.0)\n",
            "Requirement already satisfied: typing-extensions>=3.6.4 in /usr/local/lib/python3.7/dist-packages (from importlib-metadata>=1.7.0->stevedore>=3.0.0->qiskit-terra==0.19.1->qiskit) (3.10.0.2)\n",
            "Requirement already satisfied: mpmath>=0.19 in /usr/local/lib/python3.7/dist-packages (from sympy>=1.3->qiskit-terra==0.19.1->qiskit) (1.2.1)\n",
            "Building wheels for collected packages: qiskit, python-constraint\n",
            "  Building wheel for qiskit (setup.py) ... \u001b[?25l\u001b[?25hdone\n",
            "  Created wheel for qiskit: filename=qiskit-0.34.1-py3-none-any.whl size=11771 sha256=1cb7c0d581f172ce608bcfeda4262aef9e3d4a66818f302bfea29734d47af3e4\n",
            "  Stored in directory: /root/.cache/pip/wheels/79/b1/3f/8cdfd5543a84705e4bd16e081f2362b9b3bfd9898d2e2d4150\n",
            "  Building wheel for python-constraint (setup.py) ... \u001b[?25l\u001b[?25hdone\n",
            "  Created wheel for python-constraint: filename=python_constraint-1.4.0-py2.py3-none-any.whl size=24081 sha256=ef2fa179e9bc49f4a851740a5ff586eccd37db1180bd4ca0f25a9f3f975e4578\n",
            "  Stored in directory: /root/.cache/pip/wheels/07/27/db/1222c80eb1e431f3d2199c12569cb1cac60f562a451fe30479\n",
            "Successfully built qiskit python-constraint\n",
            "Installing collected packages: pbr, tweedledum, symengine, stevedore, scipy, retworkx, python-constraint, ply, ntlm-auth, cryptography, websocket-client, requests-ntlm, qiskit-terra, qiskit-ignis, qiskit-ibmq-provider, qiskit-aer, qiskit\n",
            "  Attempting uninstall: scipy\n",
            "    Found existing installation: scipy 1.4.1\n",
            "    Uninstalling scipy-1.4.1:\n",
            "      Successfully uninstalled scipy-1.4.1\n",
            "\u001b[31mERROR: pip's dependency resolver does not currently take into account all the packages that are installed. This behaviour is the source of the following dependency conflicts.\n",
            "albumentations 0.1.12 requires imgaug<0.2.7,>=0.2.5, but you have imgaug 0.2.9 which is incompatible.\u001b[0m\n",
            "Successfully installed cryptography-36.0.1 ntlm-auth-1.5.0 pbr-5.8.1 ply-3.11 python-constraint-1.4.0 qiskit-0.34.1 qiskit-aer-0.10.2 qiskit-ibmq-provider-0.18.3 qiskit-ignis-0.7.0 qiskit-terra-0.19.1 requests-ntlm-1.1.0 retworkx-0.11.0 scipy-1.7.3 stevedore-3.5.0 symengine-0.8.1 tweedledum-1.1.1 websocket-client-1.2.3\n"
          ]
        },
        {
          "output_type": "stream",
          "name": "stderr",
          "text": [
            "/usr/local/lib/python3.7/dist-packages/ipykernel_launcher.py:14: DeprecationWarning: The qiskit.ignis package is deprecated and has been supersceded by the qiskit-experiments project. Refer to the migration guide: https://github.com/Qiskit/qiskit-ignis#migration-guide on how to migrate to the new project.\n",
            "  \n"
          ]
        }
      ]
    },
    {
      "cell_type": "markdown",
      "source": [
        "# Algebra Lineare"
      ],
      "metadata": {
        "id": "L3n4iM22cfoA"
      }
    },
    {
      "cell_type": "code",
      "source": [
        "# Gate X di Pauli\n",
        "X=np.array([[0,1],[1,0]])\n",
        "\n",
        "# matrice di Hadamard\n",
        "H=1/np.sqrt(2)*np.array([[1,1],[1,-1]])\n",
        "\n",
        "# matrice di Hadamard generalizzata (ricorsiva)\n",
        "def Had(n):\n",
        "  if(n==1):\n",
        "    return H\n",
        "  return np.kron(H,Had(n-1))\n",
        "print(\"matrice di Hadamard generalizzata \",Had(2))\n",
        "\n",
        "# Gate Z di Pauli\n",
        "Z=np.array([[1,0],[0,-1]])\n",
        "\n",
        "# Matrice identita'\n",
        "I=np.array([[1,0],[0,1]])\n",
        "\n",
        "# Matrice identita' generalizzata (ricorsiva)\n",
        "def Idt(n):\n",
        "  if(n==1):\n",
        "    return I\n",
        "  return np.kron(I,Idt(n-1))\n",
        "print(\"matrice identita' generalizzata \", Idt(4))\n",
        "\n",
        "# Per normalizzare un vettore si deve moltiplicare per la sua norma, \n",
        "# per ottenere la norma si utilizza np.linalg.norm\n",
        "def normalizza(v):\n",
        "  v = v/np.linalg.norm(v)\n",
        "  return v\n",
        "# esempio\n",
        "print(\"Normalizza \",normalizza([1,1]))\n",
        "\n",
        "# dato un numero in binario vogliomo restituisto la sua forma canonica, ovvere tutti zero tranne un 1 alla posione del numero in binario\n",
        "def get_state(bstr):\n",
        "  if type(bstr)==str:\n",
        "    n = len(bstr)\n",
        "    N = 2**n\n",
        "    state = [0]*N\n",
        "    pos = int(bstr,2)\n",
        "    state[pos]=1\n",
        "    return np.array(state)\n",
        "  if type(bstr)==list:\n",
        "    state = list(bstr)\n",
        "    return normalizza(np.array(state))\n",
        "  if type(bstr)==int:\n",
        "    state = np.random.rand(bstr)\n",
        "    return normalizza(state)\n",
        "\n",
        "#esempi\n",
        "print(\"Get_state 1 \",get_state(\"010\"))\n",
        "print(\"Get_state 2 \",get_state([0,2,3,5]))\n",
        "print(\"Get_random_state \",get_state(8))\n",
        "\n",
        "# misurazione di un vettore\n",
        "def counts(vec):\n",
        "  print(\"COUNTS: \")\n",
        "  N = len(vec)\n",
        "  n = int(np.log2(N))\n",
        "  formatstr = \"{:0>\"+str(n)+\"b}\"\n",
        "  for i in range(N):\n",
        "    if(vec[i]>0):\n",
        "      print(\" -\",formatstr.format(i),str(np.around((vec[i]**2)*100,decimals=2))+\"%\")\n",
        "#esempio\n",
        "print(counts(normalizza(np.array([0,1,0,1]))))\n",
        "\n",
        "# multi controlled CX\n",
        "def mcx(n):\n",
        "  N = 2**n\n",
        "  M = Idt(n)\n",
        "  M[-2],M[-1] = M[-1].copy(),M[-2].copy()\n",
        "  return M\n",
        "#esempio\n",
        "print(\"multi controlled CX \",mcx(3))\n",
        "\n",
        "# general CX\n",
        "def gcx(c,t,n):\n",
        "  mat = Idt(n)\n",
        "  formatstr = \"{:0>\"+str(n)+\"b}\"\n",
        "  for q in range(2**n):\n",
        "    v = formatstr.format(q)\n",
        "    if(v[c]==\"0\" and v[t]==\"0\"):\n",
        "      b = [c for c in v]\n",
        "      b[c]=\"1\"\n",
        "      control = int(''.join(b),2)\n",
        "      b[t] = \"1\"\n",
        "      target = int(''.join(b),2)\n",
        "      trow = mat[target].copy()\n",
        "      crow = mat[control].copy()\n",
        "      mat[control] = trow\n",
        "      mat[target] = crow\n",
        "  return mat\n",
        "#esempio\n",
        "print(\"general CX \",gcx(0,2,3))\n",
        "\n",
        "# general CCX\n",
        "def gccx(c1,c2,t,n):\n",
        "  mat = Idt(n)\n",
        "  formatstr = \"{:0>\"+str(n)+\"b}\"\n",
        "  for q in range(2**n):\n",
        "    v = formatstr.format(q)\n",
        "    if(v[c1]==\"0\" and v[c2]==\"0\" and v[t]==\"0\"):\n",
        "      b = [c for c in v]\n",
        "      b[c1]=\"1\"\n",
        "      b[c2]=\"1\"\n",
        "      control = int(''.join(b),2)\n",
        "      b[t] = \"1\"\n",
        "      target = int(''.join(b),2)\n",
        "      trow = mat[target].copy()\n",
        "      crow = mat[control].copy()\n",
        "      mat[control] = trow\n",
        "      mat[target] = crow\n",
        "  return mat\n",
        "\n",
        "def gSwap(r1,r2,n):\n",
        "  CX1 = gcx(r2,r1,n)\n",
        "  CX2 = gcx(r1,r2,n)\n",
        "  CX3 = gcx(r2,r1,n)\n",
        "  M = np.matmul(CX1,CX2)\n",
        "  M = np.matmul(M,CX3)\n",
        "  return M\n",
        "#esempio\n",
        "Inp = get_state(\"0011\")\n",
        "Out = np.matmul(gSwap(0,2,4),Inp)\n",
        "print(\"General Swap \",counts(Out))\n",
        "\n",
        "# tensor product tra piu' array\n",
        "def tp(ql):\n",
        "  v = ql[0]\n",
        "  for i in range(1,len(ql)):\n",
        "    v = np.kron(v,ql[i])\n",
        "  return v\n",
        "\n",
        "# halfAdder\n",
        "def halfAdder(b0,b1):\n",
        "  inp0 = get_state(str(b0))\n",
        "  inp1 = get_state(str(b1))\n",
        "  out0 = get_state(\"0\")\n",
        "  out1 = get_state(\"0\")\n",
        "\n",
        "  a1 = tp([inp0,inp1,out0,out1])\n",
        "  a2 = np.matmul(gcx(0,2,4),a1)\n",
        "  a3 = np.matmul(gcx(1,2,4),a2)\n",
        "  a4 = np.matmul(gccx(0,1,3,4),a3)\n",
        "  return counts(a4)\n",
        "# esempio\n",
        "print(\"halfAdder(1,0): \",halfAdder(1,0))\n",
        "print(\"halfAdder(1,1): \",halfAdder(1,1))"
      ],
      "metadata": {
        "id": "JDXywtTLcQ0J",
        "colab": {
          "base_uri": "https://localhost:8080/"
        },
        "outputId": "041fe4e7-86c2-451a-bef8-e3150c9c47cc"
      },
      "execution_count": null,
      "outputs": [
        {
          "output_type": "stream",
          "name": "stdout",
          "text": [
            "matrice di Hadamard generalizzata  [[ 0.5  0.5  0.5  0.5]\n",
            " [ 0.5 -0.5  0.5 -0.5]\n",
            " [ 0.5  0.5 -0.5 -0.5]\n",
            " [ 0.5 -0.5 -0.5  0.5]]\n",
            "matrice identita' generalizzata  [[1 0 0 0 0 0 0 0 0 0 0 0 0 0 0 0]\n",
            " [0 1 0 0 0 0 0 0 0 0 0 0 0 0 0 0]\n",
            " [0 0 1 0 0 0 0 0 0 0 0 0 0 0 0 0]\n",
            " [0 0 0 1 0 0 0 0 0 0 0 0 0 0 0 0]\n",
            " [0 0 0 0 1 0 0 0 0 0 0 0 0 0 0 0]\n",
            " [0 0 0 0 0 1 0 0 0 0 0 0 0 0 0 0]\n",
            " [0 0 0 0 0 0 1 0 0 0 0 0 0 0 0 0]\n",
            " [0 0 0 0 0 0 0 1 0 0 0 0 0 0 0 0]\n",
            " [0 0 0 0 0 0 0 0 1 0 0 0 0 0 0 0]\n",
            " [0 0 0 0 0 0 0 0 0 1 0 0 0 0 0 0]\n",
            " [0 0 0 0 0 0 0 0 0 0 1 0 0 0 0 0]\n",
            " [0 0 0 0 0 0 0 0 0 0 0 1 0 0 0 0]\n",
            " [0 0 0 0 0 0 0 0 0 0 0 0 1 0 0 0]\n",
            " [0 0 0 0 0 0 0 0 0 0 0 0 0 1 0 0]\n",
            " [0 0 0 0 0 0 0 0 0 0 0 0 0 0 1 0]\n",
            " [0 0 0 0 0 0 0 0 0 0 0 0 0 0 0 1]]\n",
            "Normalizza  [0.70710678 0.70710678]\n",
            "Get_state 1  [0 0 1 0 0 0 0 0]\n",
            "Get_state 2  [0.         0.32444284 0.48666426 0.81110711]\n",
            "Get_random_state  [0.60781526 0.03863365 0.30221416 0.25291184 0.58923034 0.07031781\n",
            " 0.13848213 0.32008743]\n",
            "COUNTS: \n",
            " - 01 50.0%\n",
            " - 11 50.0%\n",
            "None\n",
            "multi controlled CX  [[1 0 0 0 0 0 0 0]\n",
            " [0 1 0 0 0 0 0 0]\n",
            " [0 0 1 0 0 0 0 0]\n",
            " [0 0 0 1 0 0 0 0]\n",
            " [0 0 0 0 1 0 0 0]\n",
            " [0 0 0 0 0 1 0 0]\n",
            " [0 0 0 0 0 0 0 1]\n",
            " [0 0 0 0 0 0 1 0]]\n",
            "general CX  [[1 0 0 0 0 0 0 0]\n",
            " [0 1 0 0 0 0 0 0]\n",
            " [0 0 1 0 0 0 0 0]\n",
            " [0 0 0 1 0 0 0 0]\n",
            " [0 0 0 0 0 1 0 0]\n",
            " [0 0 0 0 1 0 0 0]\n",
            " [0 0 0 0 0 0 0 1]\n",
            " [0 0 0 0 0 0 1 0]]\n",
            "COUNTS: \n",
            " - 1001 100%\n",
            "General Swap  None\n",
            "COUNTS: \n",
            " - 1010 100%\n",
            "halfAdder(1,0):  None\n",
            "COUNTS: \n",
            " - 1101 100%\n",
            "halfAdder(1,1):  None\n"
          ]
        }
      ]
    },
    {
      "cell_type": "markdown",
      "source": [
        "# Algoritmi di Base:"
      ],
      "metadata": {
        "id": "E5rRwJGCcuMQ"
      }
    },
    {
      "cell_type": "markdown",
      "source": [
        "## Half e Full Adder"
      ],
      "metadata": {
        "id": "_Fz8qFK5dyoB"
      }
    },
    {
      "cell_type": "code",
      "source": [
        "def halfadder(l):\n",
        "  n = len(l)\n",
        "  input = QuantumRegister(n,\"input\")\n",
        "  output = QuantumRegister(2,\"output\")\n",
        "  cl = ClassicalRegister(2,\"clas\")\n",
        "  circuit = QuantumCircuit(input,output,cl)\n",
        "  circuit.barrier()\n",
        "  for i in range(n):\n",
        "    if(int(l[i])==1):\n",
        "      circuit.x(i)\n",
        "  circuit.cx(0,2)\n",
        "  circuit.cx(1,2)\n",
        "  circuit.ccx(0,1,3)\n",
        "  circuit.barrier()\n",
        "  circuit.measure(output[0],cl[0])\n",
        "  circuit.measure(output[1],cl[1])\n",
        "  print(circuit.draw(initial_state=True))\n",
        "  aer_sim = Aer.get_backend('aer_simulator')\n",
        "  qobj = assemble(circuit, aer_sim)\n",
        "  results = aer_sim.run(qobj).result()\n",
        "  answer = results.get_counts()\n",
        "  return answer\n",
        "\n",
        "def fulladder(l):\n",
        "  n = len(l)\n",
        "  if(n!=3):\n",
        "    return print(\"Lunghezza stringa errata.\")\n",
        "  input = QuantumRegister(n,\"input\")\n",
        "  output = QuantumRegister(2,\"output\")\n",
        "  ancilla = QuantumRegister(1,\"ancilla\")\n",
        "  cl = ClassicalRegister(2,\"clas\")\n",
        "  circuit = QuantumCircuit(input,ancilla,output,cl)\n",
        "  circuit.barrier()\n",
        "  for i in range(n):\n",
        "    if(int(l[i])==1):\n",
        "      circuit.x(i)\n",
        "  circuit.cx(input[0],ancilla[0])\n",
        "  circuit.cx(input[1],ancilla[0])\n",
        "  circuit.ccx(input[0],input[1],output[1])\n",
        "  circuit.barrier()\n",
        "  circuit.cx(input[2],output[0])\n",
        "  circuit.cx(ancilla[0],output[0])\n",
        "  circuit.ccx(input[2],ancilla[0],output[1])\n",
        "  circuit.barrier()\n",
        "  circuit.measure(output[0],cl[0])\n",
        "  circuit.measure(output[1],cl[1])\n",
        "  print(circuit.draw(initial_state=True))\n",
        "  aer_sim = Aer.get_backend('aer_simulator')\n",
        "  qobj = assemble(circuit, aer_sim)\n",
        "  results = aer_sim.run(qobj).result()\n",
        "  answer = results.get_counts()\n",
        "  return answer\n",
        "\n",
        "result=fulladder(\"111\")\n",
        "plot_histogram(result)"
      ],
      "metadata": {
        "id": "It8vmpPTd2Hu",
        "colab": {
          "base_uri": "https://localhost:8080/",
          "height": 607
        },
        "outputId": "b6d7c57e-b224-450f-93f4-d5b8097fc230"
      },
      "execution_count": null,
      "outputs": [
        {
          "output_type": "stream",
          "name": "stdout",
          "text": [
            "              ░ ┌───┐                ░                 ░       \n",
            " input_0: |0>─░─┤ X ├──■─────────■───░─────────────────░───────\n",
            "              ░ ├───┤  │         │   ░                 ░       \n",
            " input_1: |0>─░─┤ X ├──┼────■────■───░─────────────────░───────\n",
            "              ░ ├───┤  │    │    │   ░                 ░       \n",
            " input_2: |0>─░─┤ X ├──┼────┼────┼───░───■─────────■───░───────\n",
            "              ░ └───┘┌─┴─┐┌─┴─┐  │   ░   │         │   ░       \n",
            " ancilla: |0>─░──────┤ X ├┤ X ├──┼───░───┼────■────■───░───────\n",
            "              ░      └───┘└───┘  │   ░ ┌─┴─┐┌─┴─┐  │   ░ ┌─┐   \n",
            "output_0: |0>─░──────────────────┼───░─┤ X ├┤ X ├──┼───░─┤M├───\n",
            "              ░                ┌─┴─┐ ░ └───┘└───┘┌─┴─┐ ░ └╥┘┌─┐\n",
            "output_1: |0>─░────────────────┤ X ├─░───────────┤ X ├─░──╫─┤M├\n",
            "              ░                └───┘ ░           └───┘ ░  ║ └╥┘\n",
            "   clas: 0 2/═════════════════════════════════════════════╩══╩═\n",
            "                                                          0  1 \n"
          ]
        },
        {
          "output_type": "execute_result",
          "data": {
            "image/png": "[encoded data removed]",
            "text/plain": [
              "<Figure size 504x360 with 1 Axes>"
            ]
          },
          "metadata": {},
          "execution_count": 49
        }
      ]
    },
    {
      "cell_type": "markdown",
      "source": [
        "## Testa o Croce"
      ],
      "metadata": {
        "id": "BhPjLqBSvQfs"
      }
    },
    {
      "cell_type": "code",
      "source": [
        "def ToC():\n",
        "  coin = QuantumRegister(1,\"input\")\n",
        "  c = ClassicalRegister(1, \"clas\")\n",
        "  qc = QuantumCircuit(coin, c)\n",
        "  qc.barrier()\n",
        "  qc.h(coin)\n",
        "  qc.measure(coin,c)\n",
        "  qc.barrier()\n",
        "  print(qc.draw())\n",
        "  aer_sim = Aer.get_backend('aer_simulator')\n",
        "  shots = 1\n",
        "  qobj = assemble(qc, shots=shots)\n",
        "  results = aer_sim.run(qobj).result()\n",
        "  counts = results.get_counts()\n",
        "  return counts\n",
        "\n",
        "plot_histogram(ToC())"
      ],
      "metadata": {
        "colab": {
          "base_uri": "https://localhost:8080/",
          "height": 414
        },
        "id": "vubWNebivWXK",
        "outputId": "20723e01-a0a9-4214-9d69-e7b5b4b37d37"
      },
      "execution_count": null,
      "outputs": [
        {
          "output_type": "stream",
          "name": "stdout",
          "text": [
            "         ░ ┌───┐┌─┐ ░ \n",
            " input: ─░─┤ H ├┤M├─░─\n",
            "         ░ └───┘└╥┘ ░ \n",
            "clas: 1/═════════╩════\n",
            "                 0    \n"
          ]
        },
        {
          "output_type": "execute_result",
          "data": {
            "image/png": "[encoded data removed]",
            "text/plain": [
              "<Figure size 504x360 with 1 Axes>"
            ]
          },
          "metadata": {},
          "execution_count": 2
        }
      ]
    },
    {
      "cell_type": "markdown",
      "source": [
        "## Generazione di un numero random"
      ],
      "metadata": {
        "id": "1qFqeYMe0UB1"
      }
    },
    {
      "cell_type": "code",
      "source": [
        "#GENERAZIONE DI UN NUMERO RANDOM\n",
        "def rand_n(n):\n",
        "  inp = QuantumRegister(n, \"input\")\n",
        "  cla = ClassicalRegister(n, \"cla\")\n",
        "  qc = QuantumCircuit(inp,cla)\n",
        "  for i in range(n):\n",
        "    qc.h(inp[i])\n",
        "  for i in range(n):\n",
        "    qc.measure(inp[i],cla[i])\n",
        "  print(qc.draw(initial_state=True))\n",
        "  aer_sim = Aer.get_backend('aer_simulator')\n",
        "  shots = 1\n",
        "  qobj = assemble(qc, shots=shots)\n",
        "  results = aer_sim.run(qobj).result()\n",
        "  counts = results.get_counts()\n",
        "  result = int(list(counts.keys())[0],2)\n",
        "  return result\n",
        "\n",
        "print(\"Generato il numero random: \", rand_n(3))"
      ],
      "metadata": {
        "colab": {
          "base_uri": "https://localhost:8080/"
        },
        "id": "QZ5yJK4T0ZWS",
        "outputId": "d10fadb8-6a14-4283-e9a8-012955ca68a4"
      },
      "execution_count": null,
      "outputs": [
        {
          "output_type": "stream",
          "name": "stdout",
          "text": [
            "            ┌───┐┌─┐      \n",
            "input_0: |0>┤ H ├┤M├──────\n",
            "            ├───┤└╥┘┌─┐   \n",
            "input_1: |0>┤ H ├─╫─┤M├───\n",
            "            ├───┤ ║ └╥┘┌─┐\n",
            "input_2: |0>┤ H ├─╫──╫─┤M├\n",
            "            └───┘ ║  ║ └╥┘\n",
            "   cla: 0 3/══════╩══╩══╩═\n",
            "                  0  1  2 \n",
            "Generato il numero random:  6\n"
          ]
        }
      ]
    },
    {
      "cell_type": "markdown",
      "source": [
        "## Generazione di n qubit correlati:"
      ],
      "metadata": {
        "id": "vpfUvK2K6if2"
      }
    },
    {
      "cell_type": "code",
      "source": [
        "def super_n(l):\n",
        "  n = len(l)\n",
        "  inp = QuantumRegister(n,\"inp\")\n",
        "  cla = ClassicalRegister(n,\"cla\")\n",
        "  qc = QuantumCircuit(inp,cla)\n",
        "  for i in range(n):\n",
        "    if(int(l[i])==1):\n",
        "      qc.x(i)\n",
        "  qc.barrier()\n",
        "  qc.h(inp[0])\n",
        "  qc.barrier()\n",
        "  for i in range(1,n):\n",
        "    qc.cx(0,inp[i])\n",
        "  qc.barrier()\n",
        "\n",
        "  for i in range(n):\n",
        "    qc.measure(inp[i],cla[i])\n",
        "\n",
        "  print(qc.draw(initial_state=True))\n",
        "  aer_sim = Aer.get_backend('aer_simulator')\n",
        "  shots = 100\n",
        "  qobj = assemble(qc, shots=shots)\n",
        "  results = aer_sim.run(qobj).result()\n",
        "  counts = results.get_counts()\n",
        "\n",
        "  return counts\n",
        "\n",
        "plot_histogram(super_n(\"10\"))"
      ],
      "metadata": {
        "colab": {
          "base_uri": "https://localhost:8080/",
          "height": 460
        },
        "id": "wJGgqfws6nwK",
        "outputId": "80bda47a-24fe-4f0e-f967-d14dbadf95cb"
      },
      "execution_count": null,
      "outputs": [
        {
          "output_type": "stream",
          "name": "stdout",
          "text": [
            "          ┌───┐ ░ ┌───┐ ░       ░ ┌─┐   \n",
            "inp_0: |0>┤ X ├─░─┤ H ├─░───■───░─┤M├───\n",
            "          └───┘ ░ └───┘ ░ ┌─┴─┐ ░ └╥┘┌─┐\n",
            "inp_1: |0>──────░───────░─┤ X ├─░──╫─┤M├\n",
            "                ░       ░ └───┘ ░  ║ └╥┘\n",
            " cla: 0 2/═════════════════════════╩══╩═\n",
            "                                   0  1 \n"
          ]
        },
        {
          "output_type": "execute_result",
          "data": {
            "image/png": "[encoded data removed]",
            "text/plain": [
              "<Figure size 504x360 with 1 Axes>"
            ]
          },
          "metadata": {},
          "execution_count": 116
        }
      ]
    },
    {
      "cell_type": "markdown",
      "source": [
        "## Swap tra 2 qubit"
      ],
      "metadata": {
        "id": "txaAnHqFDgA9"
      }
    },
    {
      "cell_type": "code",
      "source": [
        "def swap_q(l):\n",
        "  n = len(l)\n",
        "  inp = QuantumRegister(n,\"input\")\n",
        "  cla = ClassicalRegister(n,\"cla\")\n",
        "  qc = QuantumCircuit(inp,cla)\n",
        "  if(int(l[0])==1):\n",
        "    qc.x(inp[0])\n",
        "  if(int(l[1])==1):\n",
        "    qc.x(inp[1])\n",
        "  qc.cx(inp[0],inp[1])\n",
        "  qc.cx(inp[1],inp[0])\n",
        "  qc.cx(inp[0],inp[1])\n",
        "  qc.measure(inp[0],cla[1])\n",
        "  qc.measure(inp[1],cla[0])\n",
        "\n",
        "  print(qc.draw(initial_state=True))\n",
        "  aer_sim = Aer.get_backend('aer_simulator')\n",
        "  shots = 1\n",
        "  qobj = assemble(qc, shots=shots)\n",
        "  results = aer_sim.run(qobj).result()\n",
        "  counts = results.get_counts()\n",
        "\n",
        "  return counts\n",
        "\n",
        "plot_histogram(swap_q(\"10\"))"
      ],
      "metadata": {
        "colab": {
          "base_uri": "https://localhost:8080/",
          "height": 460
        },
        "id": "OCwpTJzVDlFh",
        "outputId": "4203ecc7-dad3-4959-861e-1aa3c37b2aa6"
      },
      "execution_count": null,
      "outputs": [
        {
          "output_type": "stream",
          "name": "stdout",
          "text": [
            "            ┌───┐     ┌───┐     ┌─┐   \n",
            "input_0: |0>┤ X ├──■──┤ X ├──■──┤M├───\n",
            "            └───┘┌─┴─┐└─┬─┘┌─┴─┐└╥┘┌─┐\n",
            "input_1: |0>─────┤ X ├──■──┤ X ├─╫─┤M├\n",
            "                 └───┘     └───┘ ║ └╥┘\n",
            "   cla: 0 2/═════════════════════╩══╩═\n",
            "                                 1  0 \n"
          ]
        },
        {
          "output_type": "execute_result",
          "data": {
            "image/png": "[encoded data removed]",
            "text/plain": [
              "<Figure size 504x360 with 1 Axes>"
            ]
          },
          "metadata": {},
          "execution_count": 125
        }
      ]
    },
    {
      "cell_type": "markdown",
      "source": [
        "## And generalizzato"
      ],
      "metadata": {
        "id": "HrHbArROfkfy"
      }
    },
    {
      "cell_type": "code",
      "source": [
        "def and_g(l):\n",
        "  n=len(l)\n",
        "  input = QuantumRegister(n,\"input\")\n",
        "  output = QuantumRegister(1,\"output\")\n",
        "  cl = ClassicalRegister(1,\"c\")\n",
        "  circuit = QuantumCircuit(input,output,cl)\n",
        "  for i in range(n):\n",
        "    if(int(l[i])==1):\n",
        "      circuit.x(i)\n",
        "  circuit.barrier()\n",
        "  circuit.mcx(list(range(n)),n)\n",
        "  circuit.barrier()\n",
        "  circuit.measure(output,cl)\n",
        "  \n",
        "  print(circuit.draw(initial_state=True))\n",
        "  aer_sim = Aer.get_backend('aer_simulator')\n",
        "  qobj = assemble(circuit, aer_sim)\n",
        "  results = aer_sim.run(qobj).result()\n",
        "  answer = results.get_counts()\n",
        "  return answer\n",
        "  \n",
        "result=and_g(\"101\")\n",
        "plot_histogram(result)"
      ],
      "metadata": {
        "colab": {
          "base_uri": "https://localhost:8080/",
          "height": 525
        },
        "id": "Y2Rks2NOfpcm",
        "outputId": "e5b0e1fa-7941-4f40-ceda-824099a5c5b3"
      },
      "execution_count": null,
      "outputs": [
        {
          "output_type": "stream",
          "name": "stdout",
          "text": [
            "            ┌───┐ ░       ░    \n",
            "input_0: |0>┤ X ├─░───■───░────\n",
            "            └───┘ ░   │   ░    \n",
            "input_1: |0>──────░───■───░────\n",
            "            ┌───┐ ░   │   ░    \n",
            "input_2: |0>┤ X ├─░───■───░────\n",
            "            └───┘ ░ ┌─┴─┐ ░ ┌─┐\n",
            " output: |0>──────░─┤ X ├─░─┤M├\n",
            "                  ░ └───┘ ░ └╥┘\n",
            "     c: 0 1/═════════════════╩═\n",
            "                             0 \n"
          ]
        },
        {
          "output_type": "execute_result",
          "data": {
            "image/png": "[encoded data removed]",
            "text/plain": [
              "<Figure size 504x360 with 1 Axes>"
            ]
          },
          "metadata": {},
          "execution_count": 51
        }
      ]
    },
    {
      "cell_type": "markdown",
      "source": [
        "## Or Generalizzato"
      ],
      "metadata": {
        "id": "DaYi6EJMM2Cu"
      }
    },
    {
      "cell_type": "code",
      "source": [
        "def or_g(l):\n",
        "  n=len(l)\n",
        "  input = QuantumRegister(n,\"input\")\n",
        "  output = QuantumRegister(1,\"output\")\n",
        "  cl = ClassicalRegister(1,\"c\")\n",
        "  qc = QuantumCircuit(input,output,cl)\n",
        "  qc.barrier()\n",
        "  for i in range(n):\n",
        "    if(int(l[i])==1):\n",
        "      qc.x(i)\n",
        "  qc.barrier()\n",
        "  for i in range(n):\n",
        "    qc.x(i)\n",
        "  qc.barrier()\n",
        "  qc.mcx(list(range(n)),n)\n",
        "  qc.barrier()\n",
        "  for i in range(n+1):\n",
        "    qc.x(i)\n",
        "  \n",
        "  qc.barrier()\n",
        "  qc.measure(output,cl)\n",
        "  \n",
        "  print(qc.draw(initial_state=True))\n",
        "  aer_sim = Aer.get_backend('aer_simulator')\n",
        "  qobj = assemble(qc, aer_sim)\n",
        "  results = aer_sim.run(qobj).result()\n",
        "  answer = results.get_counts()\n",
        "  return answer\n",
        "  \n",
        "result=or_g(\"010\")\n",
        "plot_histogram(result)"
      ],
      "metadata": {
        "colab": {
          "base_uri": "https://localhost:8080/",
          "height": 525
        },
        "id": "l9xFybtvNFIh",
        "outputId": "a9faa03d-3424-4add-9d6d-6b49c43f8209"
      },
      "execution_count": null,
      "outputs": [
        {
          "output_type": "stream",
          "name": "stdout",
          "text": [
            "             ░       ░ ┌───┐ ░       ░ ┌───┐ ░    \n",
            "input_0: |0>─░───────░─┤ X ├─░───■───░─┤ X ├─░────\n",
            "             ░ ┌───┐ ░ ├───┤ ░   │   ░ ├───┤ ░    \n",
            "input_1: |0>─░─┤ X ├─░─┤ X ├─░───■───░─┤ X ├─░────\n",
            "             ░ └───┘ ░ ├───┤ ░   │   ░ ├───┤ ░    \n",
            "input_2: |0>─░───────░─┤ X ├─░───■───░─┤ X ├─░────\n",
            "             ░       ░ └───┘ ░ ┌─┴─┐ ░ ├───┤ ░ ┌─┐\n",
            " output: |0>─░───────░───────░─┤ X ├─░─┤ X ├─░─┤M├\n",
            "             ░       ░       ░ └───┘ ░ └───┘ ░ └╥┘\n",
            "     c: 0 1/════════════════════════════════════╩═\n",
            "                                                0 \n"
          ]
        },
        {
          "output_type": "execute_result",
          "data": {
            "image/png": "[encoded data removed]",
            "text/plain": [
              "<Figure size 504x360 with 1 Axes>"
            ]
          },
          "metadata": {},
          "execution_count": 131
        }
      ]
    },
    {
      "cell_type": "markdown",
      "source": [
        "## Xor Generalizzato"
      ],
      "metadata": {
        "id": "Uua1KgG2OXMk"
      }
    },
    {
      "cell_type": "code",
      "source": [
        "def xor_g(l):\n",
        "  n = len(l)\n",
        "  inp = QuantumRegister(n,\"inp\")\n",
        "  out = QuantumRegister(1,\"output\")\n",
        "  cla = ClassicalRegister(1, \"cla\")\n",
        "  qc = QuantumCircuit(inp,out,cla)\n",
        "  for i in range(n):\n",
        "    if(int(l[i])==1):\n",
        "      qc.x(inp[i])\n",
        "  qc.barrier()\n",
        "  for i in range(n):\n",
        "    qc.cx(inp[i],out)\n",
        "  qc.barrier()\n",
        "\n",
        "  qc.measure(out,cla)\n",
        "\n",
        "  print(qc.draw(initial_state=True))\n",
        "  aer_sim = Aer.get_backend('aer_simulator')\n",
        "  qobj = assemble(qc, aer_sim)\n",
        "  results = aer_sim.run(qobj).result()\n",
        "  answer = results.get_counts()\n",
        "  return answer\n",
        "  \n",
        "plot_histogram(xor_g(\"11010\"))"
      ],
      "metadata": {
        "colab": {
          "base_uri": "https://localhost:8080/",
          "height": 599
        },
        "id": "7pcr0sz7Oehx",
        "outputId": "c414ce21-a753-498e-b24c-dfc032192e9f"
      },
      "execution_count": null,
      "outputs": [
        {
          "output_type": "stream",
          "name": "stdout",
          "text": [
            "           ┌───┐ ░                           ░    \n",
            " inp_0: |0>┤ X ├─░───■───────────────────────░────\n",
            "           ├───┤ ░   │                       ░    \n",
            " inp_1: |0>┤ X ├─░───┼────■──────────────────░────\n",
            "           └───┘ ░   │    │                  ░    \n",
            " inp_2: |0>──────░───┼────┼────■─────────────░────\n",
            "           ┌───┐ ░   │    │    │             ░    \n",
            " inp_3: |0>┤ X ├─░───┼────┼────┼────■────────░────\n",
            "           └───┘ ░   │    │    │    │        ░    \n",
            " inp_4: |0>──────░───┼────┼────┼────┼────■───░────\n",
            "                 ░ ┌─┴─┐┌─┴─┐┌─┴─┐┌─┴─┐┌─┴─┐ ░ ┌─┐\n",
            "output: |0>──────░─┤ X ├┤ X ├┤ X ├┤ X ├┤ X ├─░─┤M├\n",
            "                 ░ └───┘└───┘└───┘└───┘└───┘ ░ └╥┘\n",
            "  cla: 0 1/═════════════════════════════════════╩═\n",
            "                                                0 \n"
          ]
        },
        {
          "output_type": "execute_result",
          "data": {
            "image/png": "[encoded data removed]",
            "text/plain": [
              "<Figure size 504x360 with 1 Axes>"
            ]
          },
          "metadata": {},
          "execution_count": 138
        }
      ]
    },
    {
      "cell_type": "markdown",
      "source": [
        "## Boolean Inner Product"
      ],
      "metadata": {
        "id": "4AZDCclbQvVW"
      }
    },
    {
      "cell_type": "code",
      "source": [
        "#BOOLEAN INNER PRODUCT\n",
        "def bip(l1,l2):\n",
        "  n = len(l1)\n",
        "  input1 = QuantumRegister(n,\"input1\")\n",
        "  input2 = QuantumRegister(n,\"input2\")\n",
        "  ancilla = QuantumRegister(n,\"ancilla\")\n",
        "  out = QuantumRegister(1,\"output\")\n",
        "  cla = ClassicalRegister(1,\"cla\")\n",
        "  qc = QuantumCircuit(input1,input2,ancilla,out,cla)\n",
        "  for i in range(n):\n",
        "    if(int(l1[i])==1):\n",
        "      qc.x(input1[i])\n",
        "    if(int(l2[i])==1):\n",
        "      qc.x(input2[i])\n",
        "  qc.barrier()\n",
        "  for i in range(n):\n",
        "    qc.ccx(input1[i],input2[i],ancilla[i])\n",
        "  qc.barrier()\n",
        "  for i in range(n):\n",
        "    qc.cx(ancilla[i],out)\n",
        "  qc.barrier\n",
        "  qc.measure(out,cla)\n",
        "  print(qc.draw(initial_state=True))\n",
        "  aer_sim = Aer.get_backend('aer_simulator')\n",
        "  qobj = assemble(qc, aer_sim)\n",
        "  results = aer_sim.run(qobj).result()\n",
        "  answer = results.get_counts()\n",
        "  return answer\n",
        "  \n",
        "plot_histogram(bip(\"101\",\"111\"))"
      ],
      "metadata": {
        "colab": {
          "base_uri": "https://localhost:8080/",
          "height": 745
        },
        "id": "7Bc4O5IzQEwo",
        "outputId": "d73eb049-928a-4f67-affa-225de4fce2ff"
      },
      "execution_count": null,
      "outputs": [
        {
          "output_type": "stream",
          "name": "stdout",
          "text": [
            "              ┌───┐ ░                 ░                   \n",
            " input1_0: |0>┤ X ├─░───■─────────────░───────────────────\n",
            "              └───┘ ░   │             ░                   \n",
            " input1_1: |0>──────░───┼────■────────░───────────────────\n",
            "              ┌───┐ ░   │    │        ░                   \n",
            " input1_2: |0>┤ X ├─░───┼────┼────■───░───────────────────\n",
            "              ├───┤ ░   │    │    │   ░                   \n",
            " input2_0: |0>┤ X ├─░───■────┼────┼───░───────────────────\n",
            "              ├───┤ ░   │    │    │   ░                   \n",
            " input2_1: |0>┤ X ├─░───┼────■────┼───░───────────────────\n",
            "              ├───┤ ░   │    │    │   ░                   \n",
            " input2_2: |0>┤ X ├─░───┼────┼────■───░───────────────────\n",
            "              └───┘ ░ ┌─┴─┐  │    │   ░                   \n",
            "ancilla_0: |0>──────░─┤ X ├──┼────┼───░───■───────────────\n",
            "                    ░ └───┘┌─┴─┐  │   ░   │               \n",
            "ancilla_1: |0>──────░──────┤ X ├──┼───░───┼────■──────────\n",
            "                    ░      └───┘┌─┴─┐ ░   │    │          \n",
            "ancilla_2: |0>──────░───────────┤ X ├─░───┼────┼────■─────\n",
            "                    ░           └───┘ ░ ┌─┴─┐┌─┴─┐┌─┴─┐┌─┐\n",
            "   output: |0>──────░─────────────────░─┤ X ├┤ X ├┤ X ├┤M├\n",
            "                    ░                 ░ └───┘└───┘└───┘└╥┘\n",
            "     cla: 0 1/══════════════════════════════════════════╩═\n",
            "                                                        0 \n"
          ]
        },
        {
          "output_type": "execute_result",
          "data": {
            "image/png": "[encoded data removed]",
            "text/plain": [
              "<Figure size 504x360 with 1 Axes>"
            ]
          },
          "metadata": {},
          "execution_count": 145
        }
      ]
    },
    {
      "cell_type": "markdown",
      "source": [
        "# Quantum Teleportation & Superdense Coding"
      ],
      "metadata": {
        "id": "o6i_VxqmVHMa"
      }
    },
    {
      "cell_type": "markdown",
      "source": [
        "## Quantum Teleportation"
      ],
      "metadata": {
        "id": "eLuDGwCiVPHs"
      }
    },
    {
      "cell_type": "code",
      "source": [
        "#QUANTUM TELEPORTATION \n",
        "def random_state():\n",
        "  return random_statevector(2)\n",
        "\n",
        "def bell_pair():\n",
        "  qc = QuantumCircuit(2)\n",
        "  qc.h(0)\n",
        "  qc.cx(0,1)\n",
        "  return qc\n",
        "\n",
        "def alice():\n",
        "  mess = QuantumRegister(1,name=\"mess\")\n",
        "  aq = QuantumRegister(1,name=\"alice_qubit\")\n",
        "  bq = QuantumRegister(1,name=\"bob_qubit\")\n",
        "  cr = ClassicalRegister(2,name=\"code_mess\")\n",
        "  qc = QuantumCircuit(mess,aq,bq,cr)\n",
        "  qc.cx(mess,aq)\n",
        "  qc.h(mess)\n",
        "  qc.barrier()\n",
        "  qc.measure(mess,cr[0])\n",
        "  qc.measure(aq,cr[1])\n",
        "  return qc\n",
        "\n",
        "def bob():\n",
        "  bq = QuantumRegister(1,name=\"bob_qubit\")\n",
        "  cr = ClassicalRegister(2,name=\"clas\")\n",
        "  qc = QuantumCircuit(bq,cr)\n",
        "  qc.x(bq).c_if(cr[1],1)\n",
        "  qc.z(bq).c_if(cr[0],1)\n",
        "  return qc\n",
        "\n",
        "def teleport(psi):\n",
        "  aq = QuantumRegister(1,name=\"alice_qubit\")\n",
        "  bq = QuantumRegister(1,name=\"bob_qubit\")\n",
        "  mess = QuantumRegister(1,name=\"mess\")\n",
        "  crz = ClassicalRegister(1,name=\"crz\")\n",
        "  crx = ClassicalRegister(1,name=\"crx\")\n",
        "  ver = ClassicalRegister(1,name=\"ver\")\n",
        "  qc = QuantumCircuit(mess,aq,bq,crz,crx,ver)\n",
        "  init_gate = Initialize(psi)\n",
        "  init_gate.label = \"init\"\n",
        "  inverse_init_gate = init_gate.gates_to_uncompute()\n",
        "  qc = qc.compose(init_gate,[mess])\n",
        "  qc.barrier()\n",
        "  qc = qc.compose(bell_pair(),[aq[0],bq[0]])\n",
        "  qc.barrier()\n",
        "  qc = qc.compose(alice(),[mess[0],aq[0],bq[0]],[crz[0],crx[0]])\n",
        "  qc.barrier()\n",
        "  qc = qc.compose(bob(),[bq[0]],[crz[0],crx[0]])\n",
        "  qc.barrier()\n",
        "  qc = qc.compose(inverse_init_gate, [bq[0]])\n",
        "  qc.measure(bq[0],ver[0])\n",
        "  print(qc.draw())\n",
        "  sim = Aer.get_backend('aer_simulator')\n",
        "  t_qc = transpile(qc, sim)\n",
        "  t_qc.save_statevector()\n",
        "  counts = sim.run(t_qc).result().get_counts()\n",
        "  qubit_counts = [marginal_counts(counts, [qubit]) for qubit in range(3)]\n",
        "  return qubit_counts\n",
        "\n",
        "psi=random_state()\n",
        "plot_histogram(teleport(psi))"
      ],
      "metadata": {
        "colab": {
          "base_uri": "https://localhost:8080/",
          "height": 1000
        },
        "id": "buirUB96VV5m",
        "outputId": "bec128a0-86e1-43b2-d923-a01fdfad3f4b"
      },
      "execution_count": null,
      "outputs": [
        {
          "output_type": "stream",
          "name": "stdout",
          "text": [
            "global phase: 5.2472\n",
            "             ┌───────────────────────────────────────────┐ ░            ░      »\n",
            "       mess: ┤ init(-0.067745+0.67669j,0.67489+0.28641j) ├─░────────────░───■──»\n",
            "             └───────────────────────────────────────────┘ ░ ┌───┐      ░ ┌─┴─┐»\n",
            "alice_qubit: ──────────────────────────────────────────────░─┤ H ├──■───░─┤ X ├»\n",
            "                                                           ░ └───┘┌─┴─┐ ░ └───┘»\n",
            "  bob_qubit: ──────────────────────────────────────────────░──────┤ X ├─░──────»\n",
            "                                                           ░      └───┘ ░      »\n",
            "      crz: 1/══════════════════════════════════════════════════════════════════»\n",
            "                                                                               »\n",
            "      crx: 1/══════════════════════════════════════════════════════════════════»\n",
            "                                                                               »\n",
            "      ver: 1/══════════════════════════════════════════════════════════════════»\n",
            "                                                                               »\n",
            "«             ┌───┐ ░ ┌─┐    ░                            ░               »\n",
            "«       mess: ┤ H ├─░─┤M├────░────────────────────────────░───────────────»\n",
            "«             └───┘ ░ └╥┘┌─┐ ░                            ░               »\n",
            "«alice_qubit: ──────░──╫─┤M├─░────────────────────────────░───────────────»\n",
            "«                   ░  ║ └╥┘ ░     ┌───┐        ┌───┐     ░ ┌────────────┐»\n",
            "«  bob_qubit: ──────░──╫──╫──░─────┤ X ├────────┤ Z ├─────░─┤ multiplex1 ├»\n",
            "«                   ░  ║  ║  ░     └─╥─┘        └─╥─┘     ░ └────────────┘»\n",
            "«                      ║  ║          ║      ┌─────╨─────┐                 »\n",
            "«      crz: 1/═════════╩══╬══════════╬══════╡ crz_0=0x1 ╞═════════════════»\n",
            "«                      0  ║    ┌─────╨─────┐└───────────┘                 »\n",
            "«      crx: 1/════════════╩════╡ crx_0=0x1 ╞══════════════════════════════»\n",
            "«                         0    └───────────┘                              »\n",
            "«      ver: 1/════════════════════════════════════════════════════════════»\n",
            "«                                                                         »\n",
            "«                                      \n",
            "«       mess: ─────────────────────────\n",
            "«                                      \n",
            "«alice_qubit: ─────────────────────────\n",
            "«             ┌────────────────────┐┌─┐\n",
            "«  bob_qubit: ┤ multiplex1_reverse ├┤M├\n",
            "«             └────────────────────┘└╥┘\n",
            "«      crz: 1/═══════════════════════╬═\n",
            "«                                    ║ \n",
            "«      crx: 1/═══════════════════════╬═\n",
            "«                                    ║ \n",
            "«      ver: 1/═══════════════════════╩═\n",
            "«                                    0 \n"
          ]
        },
        {
          "output_type": "execute_result",
          "data": {
            "image/png": "[encoded data removed]",
            "text/plain": [
              "<Figure size 504x360 with 1 Axes>"
            ]
          },
          "metadata": {},
          "execution_count": 79
        }
      ]
    },
    {
      "cell_type": "markdown",
      "source": [
        "## SuperDense Coding"
      ],
      "metadata": {
        "id": "SspVILO3g_uI"
      }
    },
    {
      "cell_type": "code",
      "source": [
        "#SUPERDENSE CODING\n",
        "def create_bell_pair():\n",
        "    qc = QuantumCircuit(2)\n",
        "    qc.h(1)\n",
        "    qc.cx(1,0)\n",
        "    return qc\n",
        "\n",
        "def encode_message(qc, qubit, msg):\n",
        "    if msg[1] == \"1\":\n",
        "        qc.x(qubit)\n",
        "    if msg[0] == \"1\":\n",
        "        qc.z(qubit)\n",
        "    return qc\n",
        "\n",
        "def decode_message(qc):\n",
        "    qc.cx(1,0)\n",
        "    qc.h(1)\n",
        "    return qc\n",
        "\n",
        "qc = create_bell_pair()\n",
        "qc.barrier()\n",
        "message = '01'\n",
        "qc = encode_message(qc, 0, message)\n",
        "qc.barrier()\n",
        "qc = decode_message(qc)\n",
        "qc.measure_all()\n",
        "print(qc.draw())\n",
        "#LANCIAMO IL SIMULATORE\n",
        "aer_sim = Aer.get_backend('aer_simulator')\n",
        "qobj = assemble(qc)\n",
        "result = aer_sim.run(qobj).result()\n",
        "counts = result.get_counts(qc)\n",
        "print(counts)\n",
        "plot_histogram(counts)"
      ],
      "metadata": {
        "colab": {
          "base_uri": "https://localhost:8080/",
          "height": 479
        },
        "id": "zyl3Cg7FZRPh",
        "outputId": "6dfd626d-43c2-4fe4-a545-f0a42decd846"
      },
      "execution_count": null,
      "outputs": [
        {
          "output_type": "stream",
          "name": "stdout",
          "text": [
            "             ┌───┐ ░ ┌───┐ ░ ┌───┐      ░ ┌─┐   \n",
            "   q_0: ─────┤ X ├─░─┤ X ├─░─┤ X ├──────░─┤M├───\n",
            "        ┌───┐└─┬─┘ ░ └───┘ ░ └─┬─┘┌───┐ ░ └╥┘┌─┐\n",
            "   q_1: ┤ H ├──■───░───────░───■──┤ H ├─░──╫─┤M├\n",
            "        └───┘      ░       ░      └───┘ ░  ║ └╥┘\n",
            "meas: 2/═══════════════════════════════════╩══╩═\n",
            "                                           0  1 \n",
            "{'01': 1024}\n"
          ]
        },
        {
          "output_type": "execute_result",
          "data": {
            "image/png": "[encoded data removed]",
            "text/plain": [
              "<Figure size 504x360 with 1 Axes>"
            ]
          },
          "metadata": {},
          "execution_count": 3
        }
      ]
    },
    {
      "cell_type": "markdown",
      "source": [
        "# Quantum Key Distribution - BB84"
      ],
      "metadata": {
        "id": "tHGKeCmKiInc"
      }
    },
    {
      "cell_type": "code",
      "source": [
        "#BB84\n",
        "def encode_message(bits, bases):\n",
        "    message = []\n",
        "    for i in range(n):\n",
        "        qc = QuantumCircuit(1,1)\n",
        "        if bases[i] == 0:\n",
        "            if bits[i] == 0:\n",
        "                pass \n",
        "            else:\n",
        "                qc.x(0)\n",
        "        else:\n",
        "            if bits[i] == 0:\n",
        "                qc.h(0)\n",
        "            else:\n",
        "                qc.x(0)\n",
        "                qc.h(0)\n",
        "        qc.barrier()\n",
        "        message.append(qc)\n",
        "    return message\n",
        "\n",
        "def measure_message(message, bases):\n",
        "    backend = Aer.get_backend('aer_simulator')\n",
        "    measurements = []\n",
        "    for q in range(n):\n",
        "        if bases[q] == 0: # measuring in Z-basis\n",
        "            message[q].measure(0,0)\n",
        "        if bases[q] == 1: # measuring in X-basis\n",
        "            message[q].h(0)\n",
        "            message[q].measure(0,0)\n",
        "        #Simulatore\n",
        "        aer_sim = Aer.get_backend('aer_simulator')\n",
        "        qobj = assemble(message[q], shots=1, memory=True)\n",
        "        result = aer_sim.run(qobj).result()\n",
        "        measured_bit = int(result.get_memory()[0])\n",
        "        measurements.append(measured_bit)\n",
        "    return measurements\n",
        "\n",
        "def remove_garbage(a_bases, b_bases, bits):\n",
        "    good_bits = []\n",
        "    for q in range(n):\n",
        "        if a_bases[q] == b_bases[q]:\n",
        "            good_bits.append(bits[q])\n",
        "    return good_bits\n",
        "\n",
        "def sample_bits(bits, selection):\n",
        "    sample = []\n",
        "    for i in selection:\n",
        "        i = np.mod(i, len(bits))\n",
        "        sample.append(bits.pop(i))\n",
        "    return sample\n",
        "\n",
        "np.random.seed(seed=0)\n",
        "n = 100\n",
        "alice_bits = randint(2, size=n)\n",
        "alice_bases = randint(2, size=n)\n",
        "message = encode_message(alice_bits, alice_bases)\n",
        "'''\n",
        "# Interception!\n",
        "eve_bases = randint(2, size=n)\n",
        "intercepted_message = measure_message(message, eve_bases)\n",
        "'''\n",
        "bob_bases = randint(2, size=n)\n",
        "bob_results = measure_message(message, bob_bases)\n",
        "alice_key = remove_garbage(alice_bases, bob_bases, alice_bits)\n",
        "bob_key = remove_garbage(alice_bases, bob_bases, bob_results)\n",
        "sample_size = 15\n",
        "bit_selection = randint(n, size=sample_size)\n",
        "bob_sample = sample_bits(bob_key, bit_selection)\n",
        "print(\"  bob_sample = \" + str(bob_sample))\n",
        "alice_sample = sample_bits(alice_key, bit_selection)\n",
        "print(\"alice_sample = \"+ str(alice_sample))\n",
        "if bob_sample != alice_sample:\n",
        "    print(\"Eva ha intercettato.\")\n",
        "else: print(\"Eve non ha intercettato\")"
      ],
      "metadata": {
        "colab": {
          "base_uri": "https://localhost:8080/"
        },
        "id": "n05eWmqfha8w",
        "outputId": "017a73be-e64a-4811-acac-7a1946e2a244"
      },
      "execution_count": null,
      "outputs": [
        {
          "output_type": "stream",
          "name": "stdout",
          "text": [
            "  bob_sample = [0, 1, 0, 1, 1, 0, 0, 0, 0, 0, 0, 1, 0, 0, 0]\n",
            "alice_sample = [0, 1, 0, 1, 1, 0, 0, 0, 0, 0, 0, 1, 0, 0, 0]\n",
            "Eve non ha intercettato\n"
          ]
        }
      ]
    },
    {
      "cell_type": "markdown",
      "source": [
        "# Deutsch-Jozsa"
      ],
      "metadata": {
        "id": "sDFDjZIL9lyT"
      }
    },
    {
      "cell_type": "code",
      "source": [
        "#DEUTSCH-JOZSA\n",
        "def dj_oracle(case, n):\n",
        "    oracle_qc = QuantumCircuit(n+1)\n",
        "    if case == \"balanced\":\n",
        "        b = np.random.randint(1,2**n)\n",
        "        b_str = format(b, '0'+str(n)+'b')\n",
        "        for qubit in range(len(b_str)):\n",
        "            if b_str[qubit] == '1':\n",
        "                oracle_qc.x(qubit)\n",
        "        for qubit in range(n):\n",
        "            oracle_qc.cx(qubit, n)\n",
        "        for qubit in range(len(b_str)):\n",
        "            if b_str[qubit] == '1':\n",
        "                oracle_qc.x(qubit)\n",
        "    if case == \"constant\":\n",
        "        output = np.random.randint(2)\n",
        "        if output == 1:\n",
        "            oracle_qc.x(n)\n",
        "    print(\"Oracle: \",oracle_qc.draw())\n",
        "    oracle_gate = oracle_qc.to_gate()\n",
        "    oracle_gate.name = \"Oracle\"\n",
        "    return oracle_gate\n",
        "\n",
        "def dj_algorithm(oracle, n):\n",
        "    dj_circuit = QuantumCircuit(n+1, n)\n",
        "    dj_circuit.x(n)\n",
        "    dj_circuit.h(n)\n",
        "    for qubit in range(n):\n",
        "        dj_circuit.h(qubit)\n",
        "    dj_circuit.append(oracle, range(n+1))\n",
        "    for qubit in range(n):\n",
        "        dj_circuit.h(qubit)\n",
        "    for i in range(n):\n",
        "        dj_circuit.measure(i, i)\n",
        "    return dj_circuit\n",
        "\n",
        "n = 4\n",
        "oracle_gate = dj_oracle('balanced', n)\n",
        "dj_circuit = dj_algorithm(oracle_gate, n)\n",
        "print(dj_circuit.draw())\n",
        "#Simulazione\n",
        "aer_sim = Aer.get_backend('aer_simulator')\n",
        "transpiled_dj_circuit = transpile(dj_circuit, aer_sim)\n",
        "qobj = assemble(transpiled_dj_circuit)\n",
        "results = aer_sim.run(qobj).result()\n",
        "answer = results.get_counts()\n",
        "plot_histogram(answer)"
      ],
      "metadata": {
        "colab": {
          "base_uri": "https://localhost:8080/",
          "height": 807
        },
        "id": "mFFASMD89uiS",
        "outputId": "21c21766-9e17-46a8-e55d-532fc082243f"
      },
      "execution_count": null,
      "outputs": [
        {
          "output_type": "stream",
          "name": "stdout",
          "text": [
            "0110\n",
            "oracle:                                \n",
            "q_0: ───────■─────────────────\n",
            "     ┌───┐  │       ┌───┐     \n",
            "q_1: ┤ X ├──┼────■──┤ X ├─────\n",
            "     ├───┤  │    │  └───┘┌───┐\n",
            "q_2: ┤ X ├──┼────┼────■──┤ X ├\n",
            "     └───┘  │    │    │  └───┘\n",
            "q_3: ───────┼────┼────┼────■──\n",
            "          ┌─┴─┐┌─┴─┐┌─┴─┐┌─┴─┐\n",
            "q_4: ─────┤ X ├┤ X ├┤ X ├┤ X ├\n",
            "          └───┘└───┘└───┘└───┘\n",
            "     ┌───┐     ┌─────────┐┌───┐┌─┐         \n",
            "q_0: ┤ H ├─────┤0        ├┤ H ├┤M├─────────\n",
            "     ├───┤     │         │├───┤└╥┘┌─┐      \n",
            "q_1: ┤ H ├─────┤1        ├┤ H ├─╫─┤M├──────\n",
            "     ├───┤     │         │├───┤ ║ └╥┘┌─┐   \n",
            "q_2: ┤ H ├─────┤2 Oracle ├┤ H ├─╫──╫─┤M├───\n",
            "     ├───┤     │         │├───┤ ║  ║ └╥┘┌─┐\n",
            "q_3: ┤ H ├─────┤3        ├┤ H ├─╫──╫──╫─┤M├\n",
            "     ├───┤┌───┐│         │└───┘ ║  ║  ║ └╥┘\n",
            "q_4: ┤ X ├┤ H ├┤4        ├──────╫──╫──╫──╫─\n",
            "     └───┘└───┘└─────────┘      ║  ║  ║  ║ \n",
            "c: 4/═══════════════════════════╩══╩══╩══╩═\n",
            "                                0  1  2  3 \n"
          ]
        },
        {
          "output_type": "execute_result",
          "data": {
            "image/png": "[encoded data removed]",
            "text/plain": [
              "<Figure size 504x360 with 1 Axes>"
            ]
          },
          "metadata": {},
          "execution_count": 4
        }
      ]
    },
    {
      "cell_type": "markdown",
      "source": [
        "# Bernstein-Vazirani"
      ],
      "metadata": {
        "id": "2QxxZseBlejT"
      }
    },
    {
      "cell_type": "code",
      "source": [
        "#BERNSTEIN-VAZIRANI\n",
        "s = '1011'   # the hidden binary string\n",
        "n = len(s) # number of qubits used to represent s\n",
        "\n",
        "# We need a circuit with n qubits, plus one auxiliary qubit\n",
        "# Also need n classical bits to write the output to\n",
        "bv_circuit = QuantumCircuit(n+1, n)\n",
        "\n",
        "# put auxiliary in state |->\n",
        "bv_circuit.h(n)\n",
        "bv_circuit.z(n)\n",
        "\n",
        "# Apply Hadamard gates before querying the oracle\n",
        "for i in range(n):\n",
        "    bv_circuit.h(i)\n",
        "    \n",
        "# Apply barrier \n",
        "bv_circuit.barrier()\n",
        "\n",
        "# Apply the inner-product oracle\n",
        "s = s[::-1] # reverse s to fit qiskit's qubit ordering\n",
        "for q in range(n):\n",
        "    if s[q] == '0':\n",
        "        bv_circuit.i(q)\n",
        "    else:\n",
        "        bv_circuit.cx(q, n)\n",
        "        \n",
        "# Apply barrier \n",
        "bv_circuit.barrier()\n",
        "\n",
        "#Apply Hadamard gates after querying the oracle\n",
        "for i in range(n):\n",
        "    bv_circuit.h(i)\n",
        "\n",
        "# Measurement\n",
        "for i in range(n):\n",
        "    bv_circuit.measure(i, i)\n",
        "\n",
        "print(bv_circuit.draw())\n",
        "\n",
        "# use local simulator\n",
        "aer_sim = Aer.get_backend('aer_simulator')\n",
        "shots = 1024\n",
        "qobj = assemble(bv_circuit)\n",
        "results = aer_sim.run(qobj).result()\n",
        "answer = results.get_counts()\n",
        "\n",
        "plot_histogram(answer)\n",
        "\n",
        "sn=list(answer)[0][::-1]\n",
        "if(sn==s):\n",
        "  print(\"Risultato corretto\")\n",
        "else:\n",
        "  print(\"Errore, le stringhe non combaciano: \",sn,\"-\",s)\n",
        "\n",
        "plot_histogram(answer)"
      ],
      "metadata": {
        "colab": {
          "base_uri": "https://localhost:8080/",
          "height": 605
        },
        "id": "lD98aAM8WF_U",
        "outputId": "340b1ddf-da89-4090-ca26-7632a5e60065"
      },
      "execution_count": null,
      "outputs": [
        {
          "output_type": "stream",
          "name": "stdout",
          "text": [
            "     ┌───┐      ░                      ░ ┌───┐┌─┐         \n",
            "q_0: ┤ H ├──────░───■──────────────────░─┤ H ├┤M├─────────\n",
            "     ├───┤      ░   │                  ░ ├───┤└╥┘┌─┐      \n",
            "q_1: ┤ H ├──────░───┼─────────■────────░─┤ H ├─╫─┤M├──────\n",
            "     ├───┤      ░   │  ┌───┐  │        ░ ├───┤ ║ └╥┘┌─┐   \n",
            "q_2: ┤ H ├──────░───┼──┤ I ├──┼────────░─┤ H ├─╫──╫─┤M├───\n",
            "     ├───┤      ░   │  └───┘  │        ░ ├───┤ ║  ║ └╥┘┌─┐\n",
            "q_3: ┤ H ├──────░───┼─────────┼────■───░─┤ H ├─╫──╫──╫─┤M├\n",
            "     ├───┤┌───┐ ░ ┌─┴─┐     ┌─┴─┐┌─┴─┐ ░ └───┘ ║  ║  ║ └╥┘\n",
            "q_4: ┤ H ├┤ Z ├─░─┤ X ├─────┤ X ├┤ X ├─░───────╫──╫──╫──╫─\n",
            "     └───┘└───┘ ░ └───┘     └───┘└───┘ ░       ║  ║  ║  ║ \n",
            "c: 4/══════════════════════════════════════════╩══╩══╩══╩═\n",
            "                                               0  1  2  3 \n",
            "Risultato corretto\n"
          ]
        },
        {
          "output_type": "execute_result",
          "data": {
            "image/png": "[encoded data removed]",
            "text/plain": [
              "<Figure size 504x360 with 1 Axes>"
            ]
          },
          "metadata": {},
          "execution_count": 7
        }
      ]
    },
    {
      "cell_type": "markdown",
      "source": [
        "# Simon"
      ],
      "metadata": {
        "id": "KjrAq7jW-wnY"
      }
    },
    {
      "cell_type": "code",
      "source": [
        "#SIMON\n",
        "def simon_o(b):\n",
        "    \"\"\"returns a Simon oracle for bitstring b\"\"\"\n",
        "    b = b[::-1] # reverse b for easy iteration\n",
        "    n = len(b)\n",
        "    qc = QuantumCircuit(n*2)\n",
        "    # Do copy; |x>|0> -> |x>|x>\n",
        "    for q in range(n):\n",
        "        qc.cx(q, q+n)\n",
        "    if '1' not in b: \n",
        "        return qc  # 1:1 mapping, so just exit\n",
        "    i = b.find('1') # index of first non-zero bit in b\n",
        "    # Do |x> -> |s.x> on condition that q_i is 1\n",
        "    for q in range(n):\n",
        "        if b[q] == '1':\n",
        "            qc.cx(i, (q)+n)\n",
        "    return qc \n",
        "\n",
        "b = '101'\n",
        "\n",
        "n = len(b)\n",
        "simon_circuit = QuantumCircuit(n*2, n)\n",
        "simon_circuit.h(range(n))    \n",
        "simon_circuit.barrier()\n",
        "simon_circuit = simon_circuit.compose(simon_o(b))\n",
        "simon_circuit.barrier()\n",
        "simon_circuit.h(range(n))\n",
        "simon_circuit.measure(range(n), range(n))\n",
        "print(simon_circuit.draw())\n",
        "aer_sim = Aer.get_backend('aer_simulator')\n",
        "shots = 1024\n",
        "qobj = assemble(simon_circuit, shots=shots)\n",
        "results = aer_sim.run(qobj).result()\n",
        "counts = results.get_counts()\n",
        "plot_histogram(counts)"
      ],
      "metadata": {
        "colab": {
          "base_uri": "https://localhost:8080/",
          "height": 616
        },
        "id": "49KIJ4i0ASRx",
        "outputId": "12850588-4ce7-43a5-aee6-4abbe23170f0"
      },
      "execution_count": null,
      "outputs": [
        {
          "output_type": "stream",
          "name": "stdout",
          "text": [
            "     ┌───┐ ░                           ░ ┌───┐┌─┐      \n",
            "q_0: ┤ H ├─░───■──────────────■────■───░─┤ H ├┤M├──────\n",
            "     ├───┤ ░   │              │    │   ░ ├───┤└╥┘┌─┐   \n",
            "q_1: ┤ H ├─░───┼────■─────────┼────┼───░─┤ H ├─╫─┤M├───\n",
            "     ├───┤ ░   │    │         │    │   ░ ├───┤ ║ └╥┘┌─┐\n",
            "q_2: ┤ H ├─░───┼────┼────■────┼────┼───░─┤ H ├─╫──╫─┤M├\n",
            "     └───┘ ░ ┌─┴─┐  │    │  ┌─┴─┐  │   ░ └───┘ ║  ║ └╥┘\n",
            "q_3: ──────░─┤ X ├──┼────┼──┤ X ├──┼───░───────╫──╫──╫─\n",
            "           ░ └───┘┌─┴─┐  │  └───┘  │   ░       ║  ║  ║ \n",
            "q_4: ──────░──────┤ X ├──┼─────────┼───░───────╫──╫──╫─\n",
            "           ░      └───┘┌─┴─┐     ┌─┴─┐ ░       ║  ║  ║ \n",
            "q_5: ──────░───────────┤ X ├─────┤ X ├─░───────╫──╫──╫─\n",
            "           ░           └───┘     └───┘ ░       ║  ║  ║ \n",
            "c: 3/══════════════════════════════════════════╩══╩══╩═\n",
            "                                               0  1  2 \n"
          ]
        },
        {
          "output_type": "execute_result",
          "data": {
            "image/png": "[encoded data removed]",
            "text/plain": [
              "<Figure size 504x360 with 1 Axes>"
            ]
          },
          "metadata": {},
          "execution_count": 2
        }
      ]
    },
    {
      "cell_type": "markdown",
      "source": [
        "# Grover"
      ],
      "metadata": {
        "id": "nTGYyCkGi6Wz"
      }
    },
    {
      "cell_type": "code",
      "source": [
        "#GROVER, ALGEBRA\n",
        "def Refl(n):\n",
        "  s = [1]*(2**n)\n",
        "  s = s/np.linalg.norm(s)\n",
        "  s = np.array([list(s)])\n",
        "  m = np.matmul(np.transpose(s),s)\n",
        "  m = 2*m - identity(2**n)\n",
        "  return m\n",
        "\n",
        "def PhaseO(w):\n",
        "  n = len(w)\n",
        "  P = identity(2**n)\n",
        "  i = int(w,2)\n",
        "  P[i,i] = -1\n",
        "  return P\n",
        "\n",
        "def Grover(w):\n",
        "  n = len(w)\n",
        "  N = 2**n\n",
        "  iter = int((np.pi/4)*np.sqrt(N))\n",
        "  P = PhaseO(w)\n",
        "  R = Refl(n)\n",
        "  print(\"Iterazioni: \", iter)\n",
        "  u = [1]*N\n",
        "  s = u/np.linalg.norm(u)\n",
        "  for i in range(iter):\n",
        "    s = np.matmul(P,s)\n",
        "    s = np.matmul(R,s)\n",
        "  print(s)\n",
        "  i = int(w,2)\n",
        "  print((s[i]**2)*100, \"%\")\n",
        "\n",
        "Grover(\"1110\")"
      ],
      "metadata": {
        "id": "tZf7msaQfwC_",
        "colab": {
          "base_uri": "https://localhost:8080/"
        },
        "outputId": "9cfdb77b-d7d7-4f4a-cccb-911814314500"
      },
      "execution_count": null,
      "outputs": [
        {
          "output_type": "stream",
          "name": "stdout",
          "text": [
            "Iterazioni:  2\n",
            "[-0.35355339  0.35355339 -0.35355339 -0.35355339 -0.35355339 -0.35355339\n",
            "  0.35355339 -0.35355339]\n",
            "12.499999999999996 %\n"
          ]
        }
      ]
    },
    {
      "cell_type": "markdown",
      "source": [
        "# QFT"
      ],
      "metadata": {
        "id": "rmIwMghb6pb4"
      }
    },
    {
      "cell_type": "code",
      "source": [
        "#QUANTUM FOURIER TRANSFORM\n",
        "def QFT(n):\n",
        "  qc = QuantumCircuit(n)\n",
        "  for t in range(n):\n",
        "    qc.h(t)\n",
        "    i = 1\n",
        "    for c in range(t+1,n):\n",
        "      phase = np.pi/(2**i)\n",
        "      qc.cp(phase, c, t)\n",
        "      i = i*2\n",
        "  qc.barrier()\n",
        "  #operiamo gli swap\n",
        "  for q in range(int(n/2)):\n",
        "    qc.swap(q, n-1-q)\n",
        "  return qc\n",
        "\n",
        "#inizializza uno specifico \n",
        "#valore nella base di Fourier\n",
        "def Init_QFT(val,n):\n",
        "  qc = QuantumCircuit(n)\n",
        "  for q in range(n):\n",
        "    qc.h(q)\n",
        "    phase = (np.pi/2**q)*val\n",
        "    qc.p(phase,q)\n",
        "  return qc\n",
        "\n",
        "def Test_QFT(val, n):\n",
        "  qc = QuantumCircuit(n,n)\n",
        "  qc = qc.compose(Init_QFT(val,n))\n",
        "  Inverse_QFT = QFT(n).inverse()\n",
        "  qc = qc.compose(Inverse_QFT)\n",
        "  qc.barrier()\n",
        "  #procediamo con le misurarazioni\n",
        "  for q in range(n):\n",
        "    qc.measure(q, n-1-q)\n",
        "  print(qc.draw())\n",
        "  #lanciamo il simulatore\n",
        "  aer_sim = Aer.get_backend('aer_simulator')\n",
        "  shots = 1024\n",
        "  qobj = assemble(qc, shots=shots)\n",
        "  results = aer_sim.run(qobj).result()\n",
        "  counts = results.get_counts()\n",
        "  plot_histogram(counts)\n",
        "  return counts\n",
        "  \n",
        "plot_histogram(Test_QFT(29,5))"
      ],
      "metadata": {
        "colab": {
          "base_uri": "https://localhost:8080/",
          "height": 1000
        },
        "id": "CvDRbE61kH18",
        "outputId": "9c65a6a6-8da5-42fc-ca32-88ebea8073b9"
      },
      "execution_count": null,
      "outputs": [
        {
          "output_type": "stream",
          "name": "stdout",
          "text": [
            "     ┌───┐  ┌────────┐        ░                                         »\n",
            "q_0: ┤ H ├──┤ P(29π) ├─────X──░─────────────────────────────────────────»\n",
            "     ├───┤┌─┴────────┴┐    │  ░                                         »\n",
            "q_1: ┤ H ├┤ P(45.553) ├─X──┼──░─────────────────────────────────────────»\n",
            "     ├───┤├───────────┤ │  │  ░                                         »\n",
            "q_2: ┤ H ├┤ P(22.777) ├─┼──┼──░──────────────────────■─────────■────────»\n",
            "     ├───┤├───────────┤ │  │  ░                ┌───┐ │         │P(-π/2) »\n",
            "q_3: ┤ H ├┤ P(11.388) ├─X──┼──░───────■────────┤ H ├─┼─────────■────────»\n",
            "     ├───┤├───────────┤    │  ░ ┌───┐ │P(-π/2) └───┘ │P(-π/4)           »\n",
            "q_4: ┤ H ├┤ P(5.6941) ├────X──░─┤ H ├─■──────────────■──────────────────»\n",
            "     └───┘└───────────┘       ░ └───┘                                   »\n",
            "c: 5/═══════════════════════════════════════════════════════════════════»\n",
            "                                                                        »\n",
            "«                                                                     »\n",
            "«q_0: ───────────────────────────■─────────────────────■──────────────»\n",
            "«                                │                     │         ┌───┐»\n",
            "«q_1: ─■───────────────■─────────┼───────────■─────────┼─────────┤ H ├»\n",
            "«      │         ┌───┐ │         │           │P(-π/2)  │         └───┘»\n",
            "«q_2: ─┼─────────┤ H ├─┼─────────┼───────────■─────────┼──────────────»\n",
            "«      │         └───┘ │P(-π/4)  │                     │P(-π/16)      »\n",
            "«q_3: ─┼───────────────■─────────┼─────────────────────■──────────────»\n",
            "«      │P(-π/16)                 │P(-π/256)                           »\n",
            "«q_4: ─■─────────────────────────■────────────────────────────────────»\n",
            "«                                                                     »\n",
            "«c: 5/════════════════════════════════════════════════════════════════»\n",
            "«                                                                     »\n",
            "«                         ┌───┐ ░ ┌─┐            \n",
            "«q_0: ─■─────────■────────┤ H ├─░─┤M├────────────\n",
            "«      │         │P(-π/2) └───┘ ░ └╥┘┌─┐         \n",
            "«q_1: ─┼─────────■──────────────░──╫─┤M├─────────\n",
            "«      │P(-π/4)                 ░  ║ └╥┘┌─┐      \n",
            "«q_2: ─■────────────────────────░──╫──╫─┤M├──────\n",
            "«                               ░  ║  ║ └╥┘┌─┐   \n",
            "«q_3: ──────────────────────────░──╫──╫──╫─┤M├───\n",
            "«                               ░  ║  ║  ║ └╥┘┌─┐\n",
            "«q_4: ──────────────────────────░──╫──╫──╫──╫─┤M├\n",
            "«                               ░  ║  ║  ║  ║ └╥┘\n",
            "«c: 5/═════════════════════════════╩══╩══╩══╩══╩═\n",
            "«                                  4  3  2  1  0 \n"
          ]
        },
        {
          "output_type": "execute_result",
          "data": {
            "image/png": "[encoded data removed]",
            "text/plain": [
              "<Figure size 504x360 with 1 Axes>"
            ]
          },
          "metadata": {},
          "execution_count": 5
        }
      ]
    },
    {
      "cell_type": "markdown",
      "source": [
        "# Quantum Phase Estimation"
      ],
      "metadata": {
        "id": "iENNoh2JCDwu"
      }
    },
    {
      "cell_type": "code",
      "source": [
        "def QFT(n):\n",
        "  qc = QuantumCircuit(n)\n",
        "  for t in range(n):\n",
        "    qc.h(t)\n",
        "    i = 1\n",
        "    for c in range(t+1,n):\n",
        "      phase = np.pi/(2**i)\n",
        "      qc.cp(phase, c, t)\n",
        "      i = i*2\n",
        "  qc.barrier()\n",
        "  #operiamo gli swap\n",
        "  for q in range(int(n/2)):\n",
        "    qc.swap(q, n-1-q)\n",
        "    qc.cp\n",
        "  return qc\n",
        "\n",
        "#Di seguito la funzione che individua e stimare la fase \n",
        "#di un operatore (gate) quantistico. \n",
        "#Oltre al gate prende in input il numero dei qubit per il contatore,\n",
        "# e il numero m di qubit su cui opera l'operatore\n",
        "def QFE(n, m=1):\n",
        "  phase_r = QuantumRegister(n,\"phase_r\")\n",
        "  gr = QuantumRegister(m,\"gr\")\n",
        "  cla = ClassicalRegister(n, \"classical\")\n",
        "  qpe = QuantumCircuit(phase_r,gr,cla)\n",
        "  qpe.h(phase_r)\n",
        "  qpe.x(gr)\n",
        "  qpe.barrier()\n",
        "  for counting_qubit in range(n):\n",
        "    for i in range(2**(n-counting_qubit-1)):\n",
        "      qpe.cp(5*math.pi/4, counting_qubit, n); # This is CU\n",
        "  Inverse_QFT = QFT(n).inverse()\n",
        "  qpe = qpe.compose(Inverse_QFT)\n",
        "  qpe.barrier()\n",
        "  #procediamo con le misurarazioni\n",
        "  for q in range(n):\n",
        "    qpe.measure(q, n-1-q)\n",
        "  print(qpe.draw())\n",
        "  #lanciamo il simulatore\n",
        "  aer_sim = Aer.get_backend('aer_simulator')\n",
        "  shots = 1024\n",
        "  qobj = assemble(qpe, shots=shots)\n",
        "  results = aer_sim.run(qobj).result()\n",
        "  counts = results.get_counts()\n",
        "  #Stima della fase:\n",
        "  c_list=list(counts)\n",
        "  c_list.sort(reverse=True)\n",
        "  theta = c_list[0]\n",
        "  val = int(theta, 2)\n",
        "  val = 2*val/2**n\n",
        "  print(\"Rotazione: \",str(val)+\" pi greco\")\n",
        "  return counts\n",
        "plot_histogram(QFE(3))"
      ],
      "metadata": {
        "id": "2HG14IkWCAX0",
        "colab": {
          "base_uri": "https://localhost:8080/",
          "height": 958
        },
        "outputId": "fb6dec2a-436f-4c67-ab01-5cc95bd0092d"
      },
      "execution_count": null,
      "outputs": [
        {
          "output_type": "stream",
          "name": "stdout",
          "text": [
            "             ┌───┐ ░                                                   »\n",
            "  phase_r_0: ┤ H ├─░──■─────────■─────────■─────────■──────────────────»\n",
            "             ├───┤ ░  │         │         │         │                  »\n",
            "  phase_r_1: ┤ H ├─░──┼─────────┼─────────┼─────────┼─────────■────────»\n",
            "             ├───┤ ░  │         │         │         │         │        »\n",
            "  phase_r_2: ┤ H ├─░──┼─────────┼─────────┼─────────┼─────────┼────────»\n",
            "             ├───┤ ░  │P(5π/4)  │P(5π/4)  │P(5π/4)  │P(5π/4)  │P(5π/4) »\n",
            "         gr: ┤ X ├─░──■─────────■─────────■─────────■─────────■────────»\n",
            "             └───┘ ░                                                   »\n",
            "classical: 3/══════════════════════════════════════════════════════════»\n",
            "                                                                       »\n",
            "«                                     ░                               »\n",
            "«  phase_r_0: ─────────────────────X──░──────────────────────■────────»\n",
            "«                                  │  ░                ┌───┐ │        »\n",
            "«  phase_r_1: ─■───────────────────┼──░───────■────────┤ H ├─┼────────»\n",
            "«              │                   │  ░ ┌───┐ │P(-π/2) └───┘ │P(-π/4) »\n",
            "«  phase_r_2: ─┼─────────■─────────X──░─┤ H ├─■──────────────■────────»\n",
            "«              │P(5π/4)  │P(5π/4)     ░ └───┘                         »\n",
            "«         gr: ─■─────────■────────────────────────────────────────────»\n",
            "«                                                                     »\n",
            "«classical: 3/════════════════════════════════════════════════════════»\n",
            "«                                                                     »\n",
            "«                       ┌───┐ ░ ┌─┐      \n",
            "«  phase_r_0: ─■────────┤ H ├─░─┤M├──────\n",
            "«              │P(-π/2) └───┘ ░ └╥┘┌─┐   \n",
            "«  phase_r_1: ─■──────────────░──╫─┤M├───\n",
            "«                             ░  ║ └╥┘┌─┐\n",
            "«  phase_r_2: ────────────────░──╫──╫─┤M├\n",
            "«                             ░  ║  ║ └╥┘\n",
            "«         gr: ────────────────░──╫──╫──╫─\n",
            "«                             ░  ║  ║  ║ \n",
            "«classical: 3/═══════════════════╩══╩══╩═\n",
            "«                                2  1  0 \n",
            "Rotazione:  1.25 pi greco\n"
          ]
        },
        {
          "output_type": "execute_result",
          "data": {
            "image/png": "[encoded data removed]",
            "text/plain": [
              "<Figure size 504x360 with 1 Axes>"
            ]
          },
          "metadata": {},
          "execution_count": 9
        }
      ]
    },
    {
      "cell_type": "markdown",
      "source": [
        "# Quantum Counting"
      ],
      "metadata": {
        "id": "4xIuih9kg9Gu"
      }
    },
    {
      "cell_type": "code",
      "source": [
        "def QFT(n):\n",
        "  qc = QuantumCircuit(n)\n",
        "  for t in range(n):\n",
        "    qc.h(t)\n",
        "    i = 1\n",
        "    for c in range(t+1,n):\n",
        "      phase = np.pi/(2**i)\n",
        "      qc.cp(phase, c, t)\n",
        "      i = i*2\n",
        "  #operiamo gli swap\n",
        "  for q in range(int(n/2)):\n",
        "    qc.swap(q, n-1-q)\n",
        "    qc.cp\n",
        "  return qc\n",
        "\n",
        "def GeneralPhaseOracle(wl):\n",
        "  n = len(wl[0])\n",
        "  qc = QuantumCircuit(n)\n",
        "  for sol in wl:\n",
        "    for i in range(n):\n",
        "      if(sol[i]=='0'):\n",
        "        qc.x(i)\n",
        "    qc.h(n-1)\n",
        "    qc.mcx(list(range(n-1)),n-1)\n",
        "    qc.h(n-1)\n",
        "    for i in range(n):\n",
        "      if(sol[i]=='0'):\n",
        "        qc.x(i)\n",
        "  return qc\n",
        "\n",
        "def Diffuser(n):\n",
        "  s = '0'*n\n",
        "  xr = QuantumRegister(n)\n",
        "  qc = QuantumCircuit(xr)\n",
        "  qc.h(xr)\n",
        "  qc = qc.compose(GeneralPhaseOracle([s]))\n",
        "  qc.h(xr)\n",
        "  return qc\n",
        "\n",
        "def Grover_op(wl):\n",
        "  n = len(wl[0])\n",
        "  qc = QuantumCircuit(n)\n",
        "  qc = qc.compose(GeneralPhaseOracle(wl))\n",
        "  qc = qc.compose(Diffuser(n))\n",
        "  return qc\n",
        "\n",
        "def CountSol(gate, n, m):\n",
        "  cgate = gate.control()\n",
        "  pr = QuantumRegister(n,\"pr\")\n",
        "  gr = QuantumRegister(m,\"gr\")\n",
        "  cr = ClassicalRegister(n, \"cr\")\n",
        "  qc = QuantumCircuit(pr,gr,cr)\n",
        "\n",
        "  qc.h(pr)\n",
        "  qc.h(gr)\n",
        "\n",
        "  #Applichiamo i gate controllati di Grover\n",
        "  for i in range(n):\n",
        "    for r in range(2**(n-i-1)):\n",
        "      qc = qc.compose(cgate, [pr[i]]+[gr[q] for q in range(m)])\n",
        "\n",
        "  #Importiamo la QFT inversa\n",
        "  Inverse_QFT = QFT(n).inverse().to_gate()\n",
        "  Inverse_QFT.label = \"QFT†\"\n",
        "  qc = qc.compose(Inverse_QFT,pr)\n",
        "\n",
        "  #procediamo con le misurarazioni\n",
        "  for q in range(n):\n",
        "    qc.measure(pr[q], cr[n-q-1])\n",
        "  print(qc.draw())\n",
        "\n",
        "  #lanciamo il simulatore\n",
        "  aer_sim = Aer.get_backend('aer_simulator')\n",
        "  transpiled_qc = transpile(qc, aer_sim)\n",
        "  qobj = assemble(transpiled_qc)\n",
        "  job = aer_sim.run(qobj)\n",
        "  hist = job.result().get_counts()\n",
        "  print(hist)\n",
        "\n",
        "  #Stima numero di soluzioni:\n",
        "  val = max(hist, key=hist.get)\n",
        "  vmisurato = int(val, 2)\n",
        "  theta = np.pi*(2*vmisurato)/2**n\n",
        "  print(\"Theta: \",str(theta))\n",
        "  N=2**m\n",
        "  M = N*np.sin(theta/2)**2\n",
        "  print('Soluzioni: ', N-M)\n",
        "  return N-M\n",
        "\n",
        "def Grover(wl):\n",
        "  n = len(wl[0])\n",
        "  N = 2**n\n",
        "  #M = len(wl)\n",
        "  \n",
        "  gate = Grover_op(wl)\n",
        "  xr = QuantumRegister(n)\n",
        "  cr = ClassicalRegister(n)\n",
        "  qc = QuantumCircuit(xr, cr)\n",
        "  qc.h(xr)\n",
        "\n",
        "  M = CountSol(gate, n,n)\n",
        "  it = int((np.pi/4) * np.sqrt(N/M))\n",
        "  for i in range(it):\n",
        "    qc = qc.compose(gate)\n",
        "  for i in range(n):\n",
        "    qc.measure(i, n-i-1)\n",
        "\n",
        "  aer_sim = Aer.get_backend('aer_simulator')\n",
        "  transpiled_qc = transpile(qc, aer_sim)\n",
        "  qobj = assemble(transpiled_qc)\n",
        "  job = aer_sim.run(qobj)\n",
        "  hist = job.result().get_counts()\n",
        "  return hist\n",
        "\n",
        "s = ['11010','00011','11001']\n",
        "plot_histogram(Grover(s))"
      ],
      "metadata": {
        "colab": {
          "base_uri": "https://localhost:8080/",
          "height": 1000
        },
        "id": "GzvaD_tZC1XT",
        "outputId": "1bf950d4-c9c1-439f-d22e-8b0d02582abf"
      },
      "execution_count": null,
      "outputs": [
        {
          "output_type": "stream",
          "name": "stdout",
          "text": [
            "      ┌───┐                                                        »\n",
            "pr_0: ┤ H ├──────■─────────────■─────────────■─────────────■───────»\n",
            "      ├───┤      │             │             │             │       »\n",
            "pr_1: ┤ H ├──────┼─────────────┼─────────────┼─────────────┼───────»\n",
            "      ├───┤      │             │             │             │       »\n",
            "pr_2: ┤ H ├──────┼─────────────┼─────────────┼─────────────┼───────»\n",
            "      ├───┤      │             │             │             │       »\n",
            "pr_3: ┤ H ├──────┼─────────────┼─────────────┼─────────────┼───────»\n",
            "      ├───┤      │             │             │             │       »\n",
            "pr_4: ┤ H ├──────┼─────────────┼─────────────┼─────────────┼───────»\n",
            "      ├───┤┌─────┴──────┐┌─────┴──────┐┌─────┴──────┐┌─────┴──────┐»\n",
            "gr_0: ┤ H ├┤0           ├┤0           ├┤0           ├┤0           ├»\n",
            "      ├───┤│            ││            ││            ││            │»\n",
            "gr_1: ┤ H ├┤1           ├┤1           ├┤1           ├┤1           ├»\n",
            "      ├───┤│            ││            ││            ││            │»\n",
            "gr_2: ┤ H ├┤2 circuit-2 ├┤2 circuit-2 ├┤2 circuit-2 ├┤2 circuit-2 ├»\n",
            "      ├───┤│            ││            ││            ││            │»\n",
            "gr_3: ┤ H ├┤3           ├┤3           ├┤3           ├┤3           ├»\n",
            "      ├───┤│            ││            ││            ││            │»\n",
            "gr_4: ┤ H ├┤4           ├┤4           ├┤4           ├┤4           ├»\n",
            "      └───┘└────────────┘└────────────┘└────────────┘└────────────┘»\n",
            "cr: 5/═════════════════════════════════════════════════════════════»\n",
            "                                                                   »\n",
            "«                                                                            »\n",
            "«pr_0: ──────■─────────────■─────────────■─────────────■─────────────■───────»\n",
            "«            │             │             │             │             │       »\n",
            "«pr_1: ──────┼─────────────┼─────────────┼─────────────┼─────────────┼───────»\n",
            "«            │             │             │             │             │       »\n",
            "«pr_2: ──────┼─────────────┼─────────────┼─────────────┼─────────────┼───────»\n",
            "«            │             │             │             │             │       »\n",
            "«pr_3: ──────┼─────────────┼─────────────┼─────────────┼─────────────┼───────»\n",
            "«            │             │             │             │             │       »\n",
            "«pr_4: ──────┼─────────────┼─────────────┼─────────────┼─────────────┼───────»\n",
            "«      ┌─────┴──────┐┌─────┴──────┐┌─────┴──────┐┌─────┴──────┐┌─────┴──────┐»\n",
            "«gr_0: ┤0           ├┤0           ├┤0           ├┤0           ├┤0           ├»\n",
            "«      │            ││            ││            ││            ││            │»\n",
            "«gr_1: ┤1           ├┤1           ├┤1           ├┤1           ├┤1           ├»\n",
            "«      │            ││            ││            ││            ││            │»\n",
            "«gr_2: ┤2 circuit-2 ├┤2 circuit-2 ├┤2 circuit-2 ├┤2 circuit-2 ├┤2 circuit-2 ├»\n",
            "«      │            ││            ││            ││            ││            │»\n",
            "«gr_3: ┤3           ├┤3           ├┤3           ├┤3           ├┤3           ├»\n",
            "«      │            ││            ││            ││            ││            │»\n",
            "«gr_4: ┤4           ├┤4           ├┤4           ├┤4           ├┤4           ├»\n",
            "«      └────────────┘└────────────┘└────────────┘└────────────┘└────────────┘»\n",
            "«cr: 5/══════════════════════════════════════════════════════════════════════»\n",
            "«                                                                            »\n",
            "«                                                                            »\n",
            "«pr_0: ──────■─────────────■─────────────■─────────────■─────────────■───────»\n",
            "«            │             │             │             │             │       »\n",
            "«pr_1: ──────┼─────────────┼─────────────┼─────────────┼─────────────┼───────»\n",
            "«            │             │             │             │             │       »\n",
            "«pr_2: ──────┼─────────────┼─────────────┼─────────────┼─────────────┼───────»\n",
            "«            │             │             │             │             │       »\n",
            "«pr_3: ──────┼─────────────┼─────────────┼─────────────┼─────────────┼───────»\n",
            "«            │             │             │             │             │       »\n",
            "«pr_4: ──────┼─────────────┼─────────────┼─────────────┼─────────────┼───────»\n",
            "«      ┌─────┴──────┐┌─────┴──────┐┌─────┴──────┐┌─────┴──────┐┌─────┴──────┐»\n",
            "«gr_0: ┤0           ├┤0           ├┤0           ├┤0           ├┤0           ├»\n",
            "«      │            ││            ││            ││            ││            │»\n",
            "«gr_1: ┤1           ├┤1           ├┤1           ├┤1           ├┤1           ├»\n",
            "«      │            ││            ││            ││            ││            │»\n",
            "«gr_2: ┤2 circuit-2 ├┤2 circuit-2 ├┤2 circuit-2 ├┤2 circuit-2 ├┤2 circuit-2 ├»\n",
            "«      │            ││            ││            ││            ││            │»\n",
            "«gr_3: ┤3           ├┤3           ├┤3           ├┤3           ├┤3           ├»\n",
            "«      │            ││            ││            ││            ││            │»\n",
            "«gr_4: ┤4           ├┤4           ├┤4           ├┤4           ├┤4           ├»\n",
            "«      └────────────┘└────────────┘└────────────┘└────────────┘└────────────┘»\n",
            "«cr: 5/══════════════════════════════════════════════════════════════════════»\n",
            "«                                                                            »\n",
            "«                                                                            »\n",
            "«pr_0: ──────■─────────────■─────────────────────────────────────────────────»\n",
            "«            │             │                                                 »\n",
            "«pr_1: ──────┼─────────────┼─────────────■─────────────■─────────────■───────»\n",
            "«            │             │             │             │             │       »\n",
            "«pr_2: ──────┼─────────────┼─────────────┼─────────────┼─────────────┼───────»\n",
            "«            │             │             │             │             │       »\n",
            "«pr_3: ──────┼─────────────┼─────────────┼─────────────┼─────────────┼───────»\n",
            "«            │             │             │             │             │       »\n",
            "«pr_4: ──────┼─────────────┼─────────────┼─────────────┼─────────────┼───────»\n",
            "«      ┌─────┴──────┐┌─────┴──────┐┌─────┴──────┐┌─────┴──────┐┌─────┴──────┐»\n",
            "«gr_0: ┤0           ├┤0           ├┤0           ├┤0           ├┤0           ├»\n",
            "«      │            ││            ││            ││            ││            │»\n",
            "«gr_1: ┤1           ├┤1           ├┤1           ├┤1           ├┤1           ├»\n",
            "«      │            ││            ││            ││            ││            │»\n",
            "«gr_2: ┤2 circuit-2 ├┤2 circuit-2 ├┤2 circuit-2 ├┤2 circuit-2 ├┤2 circuit-2 ├»\n",
            "«      │            ││            ││            ││            ││            │»\n",
            "«gr_3: ┤3           ├┤3           ├┤3           ├┤3           ├┤3           ├»\n",
            "«      │            ││            ││            ││            ││            │»\n",
            "«gr_4: ┤4           ├┤4           ├┤4           ├┤4           ├┤4           ├»\n",
            "«      └────────────┘└────────────┘└────────────┘└────────────┘└────────────┘»\n",
            "«cr: 5/══════════════════════════════════════════════════════════════════════»\n",
            "«                                                                            »\n",
            "«                                                                            »\n",
            "«pr_0: ──────────────────────────────────────────────────────────────────────»\n",
            "«                                                                            »\n",
            "«pr_1: ──────■─────────────■─────────────■─────────────■─────────────■───────»\n",
            "«            │             │             │             │             │       »\n",
            "«pr_2: ──────┼─────────────┼─────────────┼─────────────┼─────────────┼───────»\n",
            "«            │             │             │             │             │       »\n",
            "«pr_3: ──────┼─────────────┼─────────────┼─────────────┼─────────────┼───────»\n",
            "«            │             │             │             │             │       »\n",
            "«pr_4: ──────┼─────────────┼─────────────┼─────────────┼─────────────┼───────»\n",
            "«      ┌─────┴──────┐┌─────┴──────┐┌─────┴──────┐┌─────┴──────┐┌─────┴──────┐»\n",
            "«gr_0: ┤0           ├┤0           ├┤0           ├┤0           ├┤0           ├»\n",
            "«      │            ││            ││            ││            ││            │»\n",
            "«gr_1: ┤1           ├┤1           ├┤1           ├┤1           ├┤1           ├»\n",
            "«      │            ││            ││            ││            ││            │»\n",
            "«gr_2: ┤2 circuit-2 ├┤2 circuit-2 ├┤2 circuit-2 ├┤2 circuit-2 ├┤2 circuit-2 ├»\n",
            "«      │            ││            ││            ││            ││            │»\n",
            "«gr_3: ┤3           ├┤3           ├┤3           ├┤3           ├┤3           ├»\n",
            "«      │            ││            ││            ││            ││            │»\n",
            "«gr_4: ┤4           ├┤4           ├┤4           ├┤4           ├┤4           ├»\n",
            "«      └────────────┘└────────────┘└────────────┘└────────────┘└────────────┘»\n",
            "«cr: 5/══════════════════════════════════════════════════════════════════════»\n",
            "«                                                                            »\n",
            "«                                                                            »\n",
            "«pr_0: ──────────────────────────────────────────────────────────────────────»\n",
            "«                                                                            »\n",
            "«pr_1: ──────────────────────────────────────────────────────────────────────»\n",
            "«                                                                            »\n",
            "«pr_2: ──────■─────────────■─────────────■─────────────■─────────────────────»\n",
            "«            │             │             │             │                     »\n",
            "«pr_3: ──────┼─────────────┼─────────────┼─────────────┼─────────────■───────»\n",
            "«            │             │             │             │             │       »\n",
            "«pr_4: ──────┼─────────────┼─────────────┼─────────────┼─────────────┼───────»\n",
            "«      ┌─────┴──────┐┌─────┴──────┐┌─────┴──────┐┌─────┴──────┐┌─────┴──────┐»\n",
            "«gr_0: ┤0           ├┤0           ├┤0           ├┤0           ├┤0           ├»\n",
            "«      │            ││            ││            ││            ││            │»\n",
            "«gr_1: ┤1           ├┤1           ├┤1           ├┤1           ├┤1           ├»\n",
            "«      │            ││            ││            ││            ││            │»\n",
            "«gr_2: ┤2 circuit-2 ├┤2 circuit-2 ├┤2 circuit-2 ├┤2 circuit-2 ├┤2 circuit-2 ├»\n",
            "«      │            ││            ││            ││            ││            │»\n",
            "«gr_3: ┤3           ├┤3           ├┤3           ├┤3           ├┤3           ├»\n",
            "«      │            ││            ││            ││            ││            │»\n",
            "«gr_4: ┤4           ├┤4           ├┤4           ├┤4           ├┤4           ├»\n",
            "«      └────────────┘└────────────┘└────────────┘└────────────┘└────────────┘»\n",
            "«cr: 5/══════════════════════════════════════════════════════════════════════»\n",
            "«                                                                            »\n",
            "«                                  ┌───────┐┌─┐            \n",
            "«pr_0: ────────────────────────────┤0      ├┤M├────────────\n",
            "«                                  │       │└╥┘┌─┐         \n",
            "«pr_1: ────────────────────────────┤1      ├─╫─┤M├─────────\n",
            "«                                  │       │ ║ └╥┘┌─┐      \n",
            "«pr_2: ────────────────────────────┤2 QFT† ├─╫──╫─┤M├──────\n",
            "«                                  │       │ ║  ║ └╥┘┌─┐   \n",
            "«pr_3: ──────■─────────────────────┤3      ├─╫──╫──╫─┤M├───\n",
            "«            │                     │       │ ║  ║  ║ └╥┘┌─┐\n",
            "«pr_4: ──────┼─────────────■───────┤4      ├─╫──╫──╫──╫─┤M├\n",
            "«      ┌─────┴──────┐┌─────┴──────┐└───────┘ ║  ║  ║  ║ └╥┘\n",
            "«gr_0: ┤0           ├┤0           ├──────────╫──╫──╫──╫──╫─\n",
            "«      │            ││            │          ║  ║  ║  ║  ║ \n",
            "«gr_1: ┤1           ├┤1           ├──────────╫──╫──╫──╫──╫─\n",
            "«      │            ││            │          ║  ║  ║  ║  ║ \n",
            "«gr_2: ┤2 circuit-2 ├┤2 circuit-2 ├──────────╫──╫──╫──╫──╫─\n",
            "«      │            ││            │          ║  ║  ║  ║  ║ \n",
            "«gr_3: ┤3           ├┤3           ├──────────╫──╫──╫──╫──╫─\n",
            "«      │            ││            │          ║  ║  ║  ║  ║ \n",
            "«gr_4: ┤4           ├┤4           ├──────────╫──╫──╫──╫──╫─\n",
            "«      └────────────┘└────────────┘          ║  ║  ║  ║  ║ \n",
            "«cr: 5/══════════════════════════════════════╩══╩══╩══╩══╩═\n",
            "«                                            4  3  2  1  0 \n",
            "{'11001': 1, '01000': 1, '01010': 1, '10001': 4, '00101': 1, '01001': 1, '10000': 2, '10101': 9, '00010': 2, '01101': 453, '11011': 4, '10110': 2, '10010': 15, '10011': 435, '10111': 1, '11000': 3, '10100': 20, '11101': 7, '00100': 1, '00011': 22, '01100': 15, '01110': 12, '01111': 4, '01011': 8}\n",
            "Theta:  2.552544031041707\n",
            "Soluzioni:  2.696486203159271\n"
          ]
        },
        {
          "output_type": "execute_result",
          "data": {
            "image/png": "[encoded data removed]",
            "text/plain": [
              "<Figure size 504x360 with 1 Axes>"
            ]
          },
          "metadata": {},
          "execution_count": 2
        }
      ]
    },
    {
      "cell_type": "code",
      "source": [
        "def and_g(l):\n",
        "  n=len(l)\n",
        "  inp = QuantumRegister(n,\"input\")\n",
        "  out = QuantumRegister(1,\"out\")\n",
        "  cla = ClassicalRegister(1,\"cla\")\n",
        "  qc = QuantumCircuit(inp,out,cla)\n",
        "  for i in range(n):\n",
        "    qc.x(i)\n",
        "  qc.barrier()\n",
        "  for i in range(n):\n",
        "    if(int(l[i])==1):\n",
        "      qc.x(i)\n",
        "  qc.barrier()\n",
        "  qc.mcx(inp,out)\n",
        "  qc.barrier()\n",
        "  for i in range(n):\n",
        "    qc.x(i)\n",
        "  qc.x(out)\n",
        "  qc.measure(out,cla)\n",
        "  print(qc.draw())\n",
        "  aer_sim = Aer.get_backend('aer_simulator')\n",
        "  transpiled_qc = transpile(qc, aer_sim)\n",
        "  qobj = assemble(transpiled_qc)\n",
        "  job = aer_sim.run(qobj)\n",
        "  hist = job.result().get_counts()\n",
        "  return hist\n",
        "\n",
        "plot_histogram(and_g(\"010\"))"
      ],
      "metadata": {
        "colab": {
          "base_uri": "https://localhost:8080/",
          "height": 529
        },
        "id": "7KPOxx39coED",
        "outputId": "d44c770a-5cf4-4ccf-fd31-c2e0dc4d1fe2"
      },
      "execution_count": null,
      "outputs": [
        {
          "output_type": "stream",
          "name": "stdout",
          "text": [
            "         ┌───┐ ░       ░       ░ ┌───┐   \n",
            "input_0: ┤ X ├─░───────░───■───░─┤ X ├───\n",
            "         ├───┤ ░ ┌───┐ ░   │   ░ ├───┤   \n",
            "input_1: ┤ X ├─░─┤ X ├─░───■───░─┤ X ├───\n",
            "         ├───┤ ░ └───┘ ░   │   ░ ├───┤   \n",
            "input_2: ┤ X ├─░───────░───■───░─┤ X ├───\n",
            "         └───┘ ░       ░ ┌─┴─┐ ░ ├───┤┌─┐\n",
            "    out: ──────░───────░─┤ X ├─░─┤ X ├┤M├\n",
            "               ░       ░ └───┘ ░ └───┘└╥┘\n",
            "  cla: 1/══════════════════════════════╩═\n",
            "                                       0 \n"
          ]
        },
        {
          "output_type": "execute_result",
          "data": {
            "image/png": "[encoded data removed]",
            "text/plain": [
              "<Figure size 504x360 with 1 Axes>"
            ]
          },
          "metadata": {},
          "execution_count": 7
        }
      ]
    },
    {
      "cell_type": "code",
      "source": [
        "qc = QuantumCircuit(2)\n",
        "qc.h(0)\n",
        "qc.cx(0,1)\n",
        "qc.draw()\n",
        "qc.measure_all()\n",
        "aer_sim = Aer.get_backend('aer_simulator')\n",
        "transpiled_qc = transpile(qc, aer_sim)\n",
        "qobj = assemble(transpiled_qc)\n",
        "job = aer_sim.run(qobj)\n",
        "hist = job.result().get_counts()\n",
        "plot_histogram(hist)"
      ],
      "metadata": {
        "colab": {
          "base_uri": "https://localhost:8080/",
          "height": 331
        },
        "id": "mIwnyt5seNLO",
        "outputId": "25a8fccd-8956-4d08-ca7b-d99d0a5b5d05"
      },
      "execution_count": null,
      "outputs": [
        {
          "output_type": "execute_result",
          "data": {
            "image/png": "[encoded data removed]",
            "text/plain": [
              "<Figure size 504x360 with 1 Axes>"
            ]
          },
          "metadata": {},
          "execution_count": 10
        }
      ]
    },
    {
      "cell_type": "code",
      "source": [
        "def eva():\n",
        "  qc=QuantumCircuit(2)\n",
        "  qc.h(0)\n",
        "  qc.cx(0,1)\n",
        "  return qc\n",
        "\n",
        "def alice(qc,q,mess):\n",
        "  #00 identità\n",
        "  if(mess[0] and mess[0]):\n",
        "    pass\n",
        "  #10 identità\n",
        "  if(int(mess[1])==1):\n",
        "    qc.z(q)\n",
        "  #01 identità\n",
        "  if(int(mess[0])==1):\n",
        "    qc.x(q)\n",
        "  \n",
        "  return qc\n",
        "\n",
        "def bob(qc):\n",
        "  qc.cx(0,1)\n",
        "  qc.h(0)\n",
        "  #qc.measure_all()\n",
        "  return qc\n",
        "\n",
        "#messaggio\n",
        "mess = \"11\"\n",
        "q_c = eva()\n",
        "#Codifica di ALice\n",
        "alice_gate = alice(q_c,0,mess)\n",
        "#Decodifica Bob\n",
        "result = bob(alice_gate)\n",
        "#misuro\n",
        "result.measure_all()\n",
        "print(result.draw())\n",
        "#simulo\n",
        "aer_sim = Aer.get_backend('aer_simulator')\n",
        "transpiled_qc = transpile(result, aer_sim)\n",
        "qobj = assemble(transpiled_qc)\n",
        "job = aer_sim.run(qobj)\n",
        "hist = job.result().get_counts()\n",
        "plot_histogram(hist)"
      ],
      "metadata": {
        "colab": {
          "base_uri": "https://localhost:8080/",
          "height": 462
        },
        "id": "VkfH-xQcf0me",
        "outputId": "f475008a-6bc2-40f4-b95b-a1cba3d16449"
      },
      "execution_count": null,
      "outputs": [
        {
          "output_type": "stream",
          "name": "stdout",
          "text": [
            "        ┌───┐     ┌───┐┌───┐     ┌───┐ ░ ┌─┐   \n",
            "   q_0: ┤ H ├──■──┤ Z ├┤ X ├──■──┤ H ├─░─┤M├───\n",
            "        └───┘┌─┴─┐└───┘└───┘┌─┴─┐└───┘ ░ └╥┘┌─┐\n",
            "   q_1: ─────┤ X ├──────────┤ X ├──────░──╫─┤M├\n",
            "             └───┘          └───┘      ░  ║ └╥┘\n",
            "meas: 2/══════════════════════════════════╩══╩═\n",
            "                                          0  1 \n"
          ]
        },
        {
          "output_type": "execute_result",
          "data": {
            "image/png": "[encoded data removed]",
            "text/plain": [
              "<Figure size 504x360 with 1 Axes>"
            ]
          },
          "metadata": {},
          "execution_count": 24
        }
      ]
    },
    {
      "cell_type": "code",
      "source": [],
      "metadata": {
        "id": "2I-TeRh0h9Lw"
      },
      "execution_count": null,
      "outputs": []
    }
  ]
}